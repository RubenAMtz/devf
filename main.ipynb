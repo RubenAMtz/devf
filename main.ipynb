{
 "cells": [
  {
   "cell_type": "code",
   "execution_count": 72,
   "metadata": {},
   "outputs": [],
   "source": [
    "import numpy as np\n",
    "import pandas as pd\n",
    "import matplotlib as plt\n",
    "from constants import TRAINING_SET, VALIDATION_SET\n",
    "\n",
    "pd.set_option(\"display.precision\", 2)\n",
    "%config InlineBackend.figure_format = 'retina'"
   ]
  },
  {
   "cell_type": "code",
   "execution_count": 73,
   "metadata": {},
   "outputs": [
    {
     "data": {
      "text/html": [
       "<div>\n",
       "<style scoped>\n",
       "    .dataframe tbody tr th:only-of-type {\n",
       "        vertical-align: middle;\n",
       "    }\n",
       "\n",
       "    .dataframe tbody tr th {\n",
       "        vertical-align: top;\n",
       "    }\n",
       "\n",
       "    .dataframe thead th {\n",
       "        text-align: right;\n",
       "    }\n",
       "</style>\n",
       "<table border=\"1\" class=\"dataframe\">\n",
       "  <thead>\n",
       "    <tr style=\"text-align: right;\">\n",
       "      <th></th>\n",
       "      <th>Unnamed: 0</th>\n",
       "      <th>device_mac</th>\n",
       "      <th>branch_office</th>\n",
       "      <th>month_tz</th>\n",
       "      <th>day_tz</th>\n",
       "      <th>day_of_week_tz</th>\n",
       "      <th>hour_tz</th>\n",
       "      <th>visitor</th>\n",
       "      <th>tiempodeses</th>\n",
       "    </tr>\n",
       "  </thead>\n",
       "  <tbody>\n",
       "    <tr>\n",
       "      <th>0</th>\n",
       "      <td>1</td>\n",
       "      <td>00:00:00:6a:17:ce</td>\n",
       "      <td>1</td>\n",
       "      <td>11</td>\n",
       "      <td>2</td>\n",
       "      <td>Wednesday</td>\n",
       "      <td>0</td>\n",
       "      <td>True</td>\n",
       "      <td>2676</td>\n",
       "    </tr>\n",
       "    <tr>\n",
       "      <th>1</th>\n",
       "      <td>2</td>\n",
       "      <td>00:00:00:6a:17:ce</td>\n",
       "      <td>1</td>\n",
       "      <td>11</td>\n",
       "      <td>2</td>\n",
       "      <td>Wednesday</td>\n",
       "      <td>1</td>\n",
       "      <td>True</td>\n",
       "      <td>2676</td>\n",
       "    </tr>\n",
       "    <tr>\n",
       "      <th>2</th>\n",
       "      <td>3</td>\n",
       "      <td>00:00:00:6a:78:ae</td>\n",
       "      <td>1</td>\n",
       "      <td>10</td>\n",
       "      <td>30</td>\n",
       "      <td>Sunday</td>\n",
       "      <td>20</td>\n",
       "      <td>False</td>\n",
       "      <td>0</td>\n",
       "    </tr>\n",
       "    <tr>\n",
       "      <th>3</th>\n",
       "      <td>4</td>\n",
       "      <td>00:00:02:fa:9c:12</td>\n",
       "      <td>1</td>\n",
       "      <td>11</td>\n",
       "      <td>13</td>\n",
       "      <td>Sunday</td>\n",
       "      <td>12</td>\n",
       "      <td>True</td>\n",
       "      <td>2272</td>\n",
       "    </tr>\n",
       "    <tr>\n",
       "      <th>4</th>\n",
       "      <td>5</td>\n",
       "      <td>00:00:08:7d:e2:58</td>\n",
       "      <td>3</td>\n",
       "      <td>11</td>\n",
       "      <td>4</td>\n",
       "      <td>Friday</td>\n",
       "      <td>19</td>\n",
       "      <td>False</td>\n",
       "      <td>0</td>\n",
       "    </tr>\n",
       "  </tbody>\n",
       "</table>\n",
       "</div>"
      ],
      "text/plain": [
       "   Unnamed: 0         device_mac  branch_office  month_tz  day_tz  \\\n",
       "0           1  00:00:00:6a:17:ce              1        11       2   \n",
       "1           2  00:00:00:6a:17:ce              1        11       2   \n",
       "2           3  00:00:00:6a:78:ae              1        10      30   \n",
       "3           4  00:00:02:fa:9c:12              1        11      13   \n",
       "4           5  00:00:08:7d:e2:58              3        11       4   \n",
       "\n",
       "  day_of_week_tz  hour_tz  visitor  tiempodeses  \n",
       "0      Wednesday        0     True         2676  \n",
       "1      Wednesday        1     True         2676  \n",
       "2         Sunday       20    False            0  \n",
       "3         Sunday       12     True         2272  \n",
       "4         Friday       19    False            0  "
      ]
     },
     "execution_count": 73,
     "metadata": {},
     "output_type": "execute_result"
    }
   ],
   "source": [
    "df_e = pd.read_csv(TRAINING_SET)\n",
    "df_e.head()"
   ]
  },
  {
   "cell_type": "code",
   "execution_count": 74,
   "metadata": {},
   "outputs": [
    {
     "name": "stdout",
     "output_type": "stream",
     "text": [
      "(249556, 9)\n"
     ]
    }
   ],
   "source": [
    "print(df_e.shape)"
   ]
  },
  {
   "cell_type": "code",
   "execution_count": 75,
   "metadata": {},
   "outputs": [
    {
     "name": "stdout",
     "output_type": "stream",
     "text": [
      "Index(['Unnamed: 0', 'device_mac', 'branch_office', 'month_tz', 'day_tz',\n",
      "       'day_of_week_tz', 'hour_tz', 'visitor', 'tiempodeses'],\n",
      "      dtype='object')\n"
     ]
    }
   ],
   "source": [
    "print(df_e.columns)"
   ]
  },
  {
   "cell_type": "markdown",
   "metadata": {},
   "source": [
    "Let's explore more general information using `info`"
   ]
  },
  {
   "cell_type": "code",
   "execution_count": 76,
   "metadata": {},
   "outputs": [
    {
     "name": "stdout",
     "output_type": "stream",
     "text": [
      "<class 'pandas.core.frame.DataFrame'>\n",
      "RangeIndex: 249556 entries, 0 to 249555\n",
      "Data columns (total 9 columns):\n",
      " #   Column          Non-Null Count   Dtype \n",
      "---  ------          --------------   ----- \n",
      " 0   Unnamed: 0      249556 non-null  int64 \n",
      " 1   device_mac      249556 non-null  object\n",
      " 2   branch_office   249556 non-null  int64 \n",
      " 3   month_tz        249556 non-null  int64 \n",
      " 4   day_tz          249556 non-null  int64 \n",
      " 5   day_of_week_tz  249556 non-null  object\n",
      " 6   hour_tz         249556 non-null  int64 \n",
      " 7   visitor         249556 non-null  bool  \n",
      " 8   tiempodeses     249556 non-null  int64 \n",
      "dtypes: bool(1), int64(6), object(2)\n",
      "memory usage: 15.5+ MB\n"
     ]
    }
   ],
   "source": [
    "df_e.info()"
   ]
  },
  {
   "cell_type": "markdown",
   "metadata": {},
   "source": [
    "Like we said, 9 columns numbered from 0 to 8, the first column is unnamed, potentially could be the index of our table records. `int64`, `object` and `bool` are the data types of our features. Only one feature is `bool`, being more precise and two are of type `object`, the rest are `int64`. Not entirely sure if **`day_of_week_tz`** should be an `object` type as it holds week day names, maybe a `category` data type is better suited. According to the initial documentation the `bool` variable **`visitor`** is actually the classification or target value.\n",
    "\n",
    "We can also see that there are no missing values. Each column contains the same number of non-null values equal to the total size of rows that we saw with `shape`.\n",
    "\n",
    "We can **change the column type** with the `astype` method. Let's apply this method to the **`visitor`** feature to convert it into `int64`. We will not be modifying the same column but rather we will create a new column with the changed data type."
   ]
  },
  {
   "cell_type": "code",
   "execution_count": 77,
   "metadata": {},
   "outputs": [],
   "source": [
    "df_e['visitor_int64']=df_e['visitor'].astype(\"int64\")"
   ]
  },
  {
   "cell_type": "code",
   "execution_count": 78,
   "metadata": {},
   "outputs": [
    {
     "data": {
      "text/html": [
       "<div>\n",
       "<style scoped>\n",
       "    .dataframe tbody tr th:only-of-type {\n",
       "        vertical-align: middle;\n",
       "    }\n",
       "\n",
       "    .dataframe tbody tr th {\n",
       "        vertical-align: top;\n",
       "    }\n",
       "\n",
       "    .dataframe thead th {\n",
       "        text-align: right;\n",
       "    }\n",
       "</style>\n",
       "<table border=\"1\" class=\"dataframe\">\n",
       "  <thead>\n",
       "    <tr style=\"text-align: right;\">\n",
       "      <th></th>\n",
       "      <th>Unnamed: 0</th>\n",
       "      <th>branch_office</th>\n",
       "      <th>month_tz</th>\n",
       "      <th>day_tz</th>\n",
       "      <th>hour_tz</th>\n",
       "      <th>tiempodeses</th>\n",
       "      <th>visitor_int64</th>\n",
       "    </tr>\n",
       "  </thead>\n",
       "  <tbody>\n",
       "    <tr>\n",
       "      <th>count</th>\n",
       "      <td>249556.00</td>\n",
       "      <td>249556.00</td>\n",
       "      <td>249556.00</td>\n",
       "      <td>249556.00</td>\n",
       "      <td>249556.00</td>\n",
       "      <td>249556.00</td>\n",
       "      <td>249556.00</td>\n",
       "    </tr>\n",
       "    <tr>\n",
       "      <th>mean</th>\n",
       "      <td>124778.50</td>\n",
       "      <td>1.88</td>\n",
       "      <td>10.88</td>\n",
       "      <td>14.80</td>\n",
       "      <td>13.64</td>\n",
       "      <td>2374.75</td>\n",
       "      <td>0.34</td>\n",
       "    </tr>\n",
       "    <tr>\n",
       "      <th>std</th>\n",
       "      <td>72040.76</td>\n",
       "      <td>0.94</td>\n",
       "      <td>0.33</td>\n",
       "      <td>9.47</td>\n",
       "      <td>5.27</td>\n",
       "      <td>8058.89</td>\n",
       "      <td>0.47</td>\n",
       "    </tr>\n",
       "    <tr>\n",
       "      <th>min</th>\n",
       "      <td>1.00</td>\n",
       "      <td>1.00</td>\n",
       "      <td>10.00</td>\n",
       "      <td>1.00</td>\n",
       "      <td>0.00</td>\n",
       "      <td>0.00</td>\n",
       "      <td>0.00</td>\n",
       "    </tr>\n",
       "    <tr>\n",
       "      <th>25%</th>\n",
       "      <td>62389.75</td>\n",
       "      <td>1.00</td>\n",
       "      <td>11.00</td>\n",
       "      <td>7.00</td>\n",
       "      <td>10.00</td>\n",
       "      <td>0.00</td>\n",
       "      <td>0.00</td>\n",
       "    </tr>\n",
       "    <tr>\n",
       "      <th>50%</th>\n",
       "      <td>124778.50</td>\n",
       "      <td>1.00</td>\n",
       "      <td>11.00</td>\n",
       "      <td>13.00</td>\n",
       "      <td>14.00</td>\n",
       "      <td>0.00</td>\n",
       "      <td>0.00</td>\n",
       "    </tr>\n",
       "    <tr>\n",
       "      <th>75%</th>\n",
       "      <td>187167.25</td>\n",
       "      <td>3.00</td>\n",
       "      <td>11.00</td>\n",
       "      <td>24.00</td>\n",
       "      <td>18.00</td>\n",
       "      <td>421.00</td>\n",
       "      <td>1.00</td>\n",
       "    </tr>\n",
       "    <tr>\n",
       "      <th>max</th>\n",
       "      <td>249556.00</td>\n",
       "      <td>3.00</td>\n",
       "      <td>11.00</td>\n",
       "      <td>31.00</td>\n",
       "      <td>23.00</td>\n",
       "      <td>68062.00</td>\n",
       "      <td>1.00</td>\n",
       "    </tr>\n",
       "  </tbody>\n",
       "</table>\n",
       "</div>"
      ],
      "text/plain": [
       "       Unnamed: 0  branch_office   month_tz     day_tz    hour_tz  \\\n",
       "count   249556.00      249556.00  249556.00  249556.00  249556.00   \n",
       "mean    124778.50           1.88      10.88      14.80      13.64   \n",
       "std      72040.76           0.94       0.33       9.47       5.27   \n",
       "min          1.00           1.00      10.00       1.00       0.00   \n",
       "25%      62389.75           1.00      11.00       7.00      10.00   \n",
       "50%     124778.50           1.00      11.00      13.00      14.00   \n",
       "75%     187167.25           3.00      11.00      24.00      18.00   \n",
       "max     249556.00           3.00      11.00      31.00      23.00   \n",
       "\n",
       "       tiempodeses  visitor_int64  \n",
       "count    249556.00      249556.00  \n",
       "mean       2374.75           0.34  \n",
       "std        8058.89           0.47  \n",
       "min           0.00           0.00  \n",
       "25%           0.00           0.00  \n",
       "50%           0.00           0.00  \n",
       "75%         421.00           1.00  \n",
       "max       68062.00           1.00  "
      ]
     },
     "execution_count": 78,
     "metadata": {},
     "output_type": "execute_result"
    }
   ],
   "source": [
    "df_e.describe()"
   ]
  },
  {
   "cell_type": "markdown",
   "metadata": {},
   "source": [
    "The samples were taken in the months of October (`10`) and November (`11`).\n",
    "\n",
    "We see that there could be three banch offices given the range of values given by the `min` and `max` values, we would have to confirm this. The same logic applies for the `hour_tz` feature, meaning that we could have samples from all hours in a day."
   ]
  },
  {
   "cell_type": "code",
   "execution_count": 79,
   "metadata": {},
   "outputs": [
    {
     "name": "stdout",
     "output_type": "stream",
     "text": [
      "[1 3 2]\n",
      "24\n"
     ]
    }
   ],
   "source": [
    "print(pd.unique(df_e['branch_office']))\n",
    "print(len(pd.unique(df_e['hour_tz'])))"
   ]
  },
  {
   "cell_type": "markdown",
   "metadata": {},
   "source": [
    "We were correct, three unique branches and 24 unique hours. Let's dive a little deeper around the time dimensionalities of the dataframe and visualize their actual distribution, could be an interesting exploration."
   ]
  },
  {
   "cell_type": "code",
   "execution_count": 80,
   "metadata": {},
   "outputs": [
    {
     "data": {
      "text/plain": [
       "Text(0.5, 1.0, 'hour_tz')"
      ]
     },
     "execution_count": 80,
     "metadata": {},
     "output_type": "execute_result"
    },
    {
     "data": {
      "image/png": "[encoded data removed]",
      "text/plain": [
       "<Figure size 1080x432 with 3 Axes>"
      ]
     },
     "metadata": {
      "image/png": {
       "height": 372,
       "width": 890
      },
      "needs_background": "light"
     },
     "output_type": "display_data"
    }
   ],
   "source": [
    "# for all users\n",
    "fig, axs = plt.pyplot.subplots(1, 3, figsize=(15, 6), sharey=False)\n",
    "\n",
    "axs[0].hist(df_e['day_tz'])\n",
    "axs[0].set_title(\"day_tz\")\n",
    "\n",
    "axs[1].hist(df_e['month_tz'])\n",
    "axs[1].set_title(\"month_tz\")\n",
    "\n",
    "axs[2].hist(df_e['hour_tz'])\n",
    "axs[2].set_title(\"hour_tz\")"
   ]
  },
  {
   "cell_type": "code",
   "execution_count": 81,
   "metadata": {},
   "outputs": [
    {
     "name": "stdout",
     "output_type": "stream",
     "text": [
      "Mean of tiempodeses for non-visitors:  4.385169677199475\n",
      "Minimum value of tiempodeses for non-visitors:  0\n",
      "Maximum value of tiempodeses for non-visitors:  1715\n"
     ]
    },
    {
     "data": {
      "text/plain": [
       "count    164312.00\n",
       "mean          4.39\n",
       "std          18.12\n",
       "min           0.00\n",
       "25%           0.00\n",
       "50%           0.00\n",
       "75%           0.00\n",
       "max        1715.00\n",
       "Name: tiempodeses, dtype: float64"
      ]
     },
     "execution_count": 81,
     "metadata": {},
     "output_type": "execute_result"
    }
   ],
   "source": [
    "# let's dig deeper around the non-visitor class and their relation with the time session\n",
    "print(\"Mean of tiempodeses for non-visitors: \", df_e[df_e[\"visitor\"] == 0][\"tiempodeses\"].mean())\n",
    "\n",
    "print(\"Minimum value of tiempodeses for non-visitors: \", df_e[df_e[\"visitor\"] == 0][\"tiempodeses\"].min())\n",
    "print(\"Maximum value of tiempodeses for non-visitors: \", df_e[df_e[\"visitor\"] == 0][\"tiempodeses\"].max())\n",
    "\n",
    "df_e[df_e[\"visitor\"] == 0][\"tiempodeses\"].describe()"
   ]
  },
  {
   "cell_type": "markdown",
   "metadata": {},
   "source": [
    "Not quite \"all zero-value\" records, however, we can clearly see a high relationship between non-visitors and low values in `tiempodeses`, we could consider outliers the ones with high values.\n",
    "\n",
    "In order to see statistics on non-numerical features, one has to explicitly indicate data types of interest in the `include` parameter."
   ]
  },
  {
   "cell_type": "code",
   "execution_count": 82,
   "metadata": {},
   "outputs": [
    {
     "data": {
      "text/html": [
       "<div>\n",
       "<style scoped>\n",
       "    .dataframe tbody tr th:only-of-type {\n",
       "        vertical-align: middle;\n",
       "    }\n",
       "\n",
       "    .dataframe tbody tr th {\n",
       "        vertical-align: top;\n",
       "    }\n",
       "\n",
       "    .dataframe thead th {\n",
       "        text-align: right;\n",
       "    }\n",
       "</style>\n",
       "<table border=\"1\" class=\"dataframe\">\n",
       "  <thead>\n",
       "    <tr style=\"text-align: right;\">\n",
       "      <th></th>\n",
       "      <th>device_mac</th>\n",
       "      <th>day_of_week_tz</th>\n",
       "      <th>visitor</th>\n",
       "    </tr>\n",
       "  </thead>\n",
       "  <tbody>\n",
       "    <tr>\n",
       "      <th>count</th>\n",
       "      <td>249556</td>\n",
       "      <td>249556</td>\n",
       "      <td>249556</td>\n",
       "    </tr>\n",
       "    <tr>\n",
       "      <th>unique</th>\n",
       "      <td>125252</td>\n",
       "      <td>7</td>\n",
       "      <td>2</td>\n",
       "    </tr>\n",
       "    <tr>\n",
       "      <th>top</th>\n",
       "      <td>00:20:00:94:8e:d3</td>\n",
       "      <td>Wednesday</td>\n",
       "      <td>False</td>\n",
       "    </tr>\n",
       "    <tr>\n",
       "      <th>freq</th>\n",
       "      <td>489</td>\n",
       "      <td>48812</td>\n",
       "      <td>164312</td>\n",
       "    </tr>\n",
       "  </tbody>\n",
       "</table>\n",
       "</div>"
      ],
      "text/plain": [
       "               device_mac day_of_week_tz visitor\n",
       "count              249556         249556  249556\n",
       "unique             125252              7       2\n",
       "top     00:20:00:94:8e:d3      Wednesday   False\n",
       "freq                  489          48812  164312"
      ]
     },
     "execution_count": 82,
     "metadata": {},
     "output_type": "execute_result"
    }
   ],
   "source": [
    "df_e.describe(include=['bool','object'])"
   ]
  },
  {
   "cell_type": "markdown",
   "metadata": {},
   "source": [
    "Let's visualize the distribution of some of the non-numerical features. For plotting the distribution of categorical features we need to do a little bit of extra work and actually compute the frequency of the unique values, we can use the `value_counts` method to do so."
   ]
  },
  {
   "cell_type": "code",
   "execution_count": 83,
   "metadata": {},
   "outputs": [
    {
     "data": {
      "text/plain": [
       "<AxesSubplot:>"
      ]
     },
     "execution_count": 83,
     "metadata": {},
     "output_type": "execute_result"
    },
    {
     "data": {
      "image/png": "[encoded data removed]",
      "text/plain": [
       "<Figure size 432x288 with 1 Axes>"
      ]
     },
     "metadata": {
      "image/png": {
       "height": 263,
       "width": 394
      },
      "needs_background": "light"
     },
     "output_type": "display_data"
    }
   ],
   "source": [
    "df_e['visitor'].value_counts().plot(kind='bar')"
   ]
  },
  {
   "cell_type": "markdown",
   "metadata": {},
   "source": [
    "Here is in numerical form"
   ]
  },
  {
   "cell_type": "code",
   "execution_count": 84,
   "metadata": {},
   "outputs": [
    {
     "data": {
      "text/plain": [
       "False    164312\n",
       "True      85244\n",
       "Name: visitor, dtype: int64"
      ]
     },
     "execution_count": 84,
     "metadata": {},
     "output_type": "execute_result"
    }
   ],
   "source": [
    "df_e['visitor'].value_counts()"
   ]
  },
  {
   "cell_type": "code",
   "execution_count": 85,
   "metadata": {},
   "outputs": [
    {
     "data": {
      "text/plain": [
       "0    164312\n",
       "1     85244\n",
       "Name: visitor_int64, dtype: int64"
      ]
     },
     "execution_count": 85,
     "metadata": {},
     "output_type": "execute_result"
    }
   ],
   "source": [
    "df_e['visitor_int64'].value_counts()"
   ]
  },
  {
   "cell_type": "markdown",
   "metadata": {},
   "source": [
    "85244 users out of 249556 are actual visitors; their `visitor_int64` value is `1`. To calculate fractions, pass `normalize=True` to the `value_counts` function"
   ]
  },
  {
   "cell_type": "code",
   "execution_count": 86,
   "metadata": {},
   "outputs": [
    {
     "data": {
      "text/plain": [
       "0    0.66\n",
       "1    0.34\n",
       "Name: visitor_int64, dtype: float64"
      ]
     },
     "execution_count": 86,
     "metadata": {},
     "output_type": "execute_result"
    }
   ],
   "source": [
    "df_e['visitor_int64'].value_counts(normalize=True)"
   ]
  },
  {
   "cell_type": "markdown",
   "metadata": {},
   "source": [
    "Could there be a relationship between visitors/non-visitors and the time dimensionalities? We will use the `unstack` method to pivot the grouped dataset and convertit back into a proper form."
   ]
  },
  {
   "cell_type": "code",
   "execution_count": 87,
   "metadata": {},
   "outputs": [
    {
     "data": {
      "text/plain": [
       "<AxesSubplot:xlabel='hour_tz'>"
      ]
     },
     "execution_count": 87,
     "metadata": {},
     "output_type": "execute_result"
    },
    {
     "data": {
      "image/png": "[encoded data removed]",
      "text/plain": [
       "<Figure size 432x288 with 1 Axes>"
      ]
     },
     "metadata": {
      "image/png": {
       "height": 310,
       "width": 388
      },
      "needs_background": "light"
     },
     "output_type": "display_data"
    },
    {
     "data": {
      "image/png": "[encoded data removed]",
      "text/plain": [
       "<Figure size 432x288 with 1 Axes>"
      ]
     },
     "metadata": {
      "image/png": {
       "height": 265,
       "width": 394
      },
      "needs_background": "light"
     },
     "output_type": "display_data"
    },
    {
     "data": {
      "image/png": "[encoded data removed]",
      "text/plain": [
       "<Figure size 432x288 with 1 Axes>"
      ]
     },
     "metadata": {
      "image/png": {
       "height": 269,
       "width": 388
      },
      "needs_background": "light"
     },
     "output_type": "display_data"
    }
   ],
   "source": [
    "df_e.groupby(['day_of_week_tz', 'visitor'])['visitor'].size().unstack('visitor').plot.bar(stacked=True, legend=True)\n",
    "df_e.groupby(['month_tz', 'visitor'])['visitor'].size().unstack('visitor').plot.bar(stacked=True, legend=True)\n",
    "df_e.groupby(['hour_tz', 'visitor'])['visitor'].size().unstack('visitor').plot.bar(stacked=True, legend=True)"
   ]
  },
  {
   "cell_type": "markdown",
   "metadata": {},
   "source": [
    "Not much variability for the `day_tz` and `month_tz` features. We can see a little bit of variability for the `hour_tz` feature, however, this could very well be noise."
   ]
  },
  {
   "cell_type": "markdown",
   "metadata": {},
   "source": [
    "Let us go back to our original hypothesis, we have a potential descriptor for the user type: `tiempodeses`.\n"
   ]
  },
  {
   "cell_type": "code",
   "execution_count": 88,
   "metadata": {},
   "outputs": [
    {
     "data": {
      "text/html": [
       "<div>\n",
       "<style scoped>\n",
       "    .dataframe tbody tr th:only-of-type {\n",
       "        vertical-align: middle;\n",
       "    }\n",
       "\n",
       "    .dataframe tbody tr th {\n",
       "        vertical-align: top;\n",
       "    }\n",
       "\n",
       "    .dataframe thead th {\n",
       "        text-align: right;\n",
       "    }\n",
       "</style>\n",
       "<table border=\"1\" class=\"dataframe\">\n",
       "  <thead>\n",
       "    <tr style=\"text-align: right;\">\n",
       "      <th></th>\n",
       "      <th>mean</th>\n",
       "      <th>std</th>\n",
       "      <th>amin</th>\n",
       "      <th>amax</th>\n",
       "    </tr>\n",
       "    <tr>\n",
       "      <th>visitor</th>\n",
       "      <th></th>\n",
       "      <th></th>\n",
       "      <th></th>\n",
       "      <th></th>\n",
       "    </tr>\n",
       "  </thead>\n",
       "  <tbody>\n",
       "    <tr>\n",
       "      <th>False</th>\n",
       "      <td>4.39</td>\n",
       "      <td>18.12</td>\n",
       "      <td>0</td>\n",
       "      <td>1715</td>\n",
       "    </tr>\n",
       "    <tr>\n",
       "      <th>True</th>\n",
       "      <td>6943.75</td>\n",
       "      <td>12586.74</td>\n",
       "      <td>0</td>\n",
       "      <td>68062</td>\n",
       "    </tr>\n",
       "  </tbody>\n",
       "</table>\n",
       "</div>"
      ],
      "text/plain": [
       "            mean       std  amin   amax\n",
       "visitor                                \n",
       "False       4.39     18.12     0   1715\n",
       "True     6943.75  12586.74     0  68062"
      ]
     },
     "execution_count": 88,
     "metadata": {},
     "output_type": "execute_result"
    }
   ],
   "source": [
    "df_e.groupby([\"visitor\"])[\"tiempodeses\"].agg([np.mean, np.std, np.min, np.max])"
   ]
  },
  {
   "cell_type": "markdown",
   "metadata": {},
   "source": [
    "What about the session time by branch?"
   ]
  },
  {
   "cell_type": "code",
   "execution_count": 89,
   "metadata": {},
   "outputs": [
    {
     "data": {
      "text/html": [
       "<div>\n",
       "<style scoped>\n",
       "    .dataframe tbody tr th:only-of-type {\n",
       "        vertical-align: middle;\n",
       "    }\n",
       "\n",
       "    .dataframe tbody tr th {\n",
       "        vertical-align: top;\n",
       "    }\n",
       "\n",
       "    .dataframe thead th {\n",
       "        text-align: right;\n",
       "    }\n",
       "</style>\n",
       "<table border=\"1\" class=\"dataframe\">\n",
       "  <thead>\n",
       "    <tr style=\"text-align: right;\">\n",
       "      <th></th>\n",
       "      <th></th>\n",
       "      <th>mean</th>\n",
       "      <th>std</th>\n",
       "      <th>amin</th>\n",
       "      <th>amax</th>\n",
       "    </tr>\n",
       "    <tr>\n",
       "      <th>visitor</th>\n",
       "      <th>branch_office</th>\n",
       "      <th></th>\n",
       "      <th></th>\n",
       "      <th></th>\n",
       "      <th></th>\n",
       "    </tr>\n",
       "  </thead>\n",
       "  <tbody>\n",
       "    <tr>\n",
       "      <th rowspan=\"3\" valign=\"top\">False</th>\n",
       "      <th>1</th>\n",
       "      <td>5.26</td>\n",
       "      <td>18.44</td>\n",
       "      <td>0</td>\n",
       "      <td>315</td>\n",
       "    </tr>\n",
       "    <tr>\n",
       "      <th>2</th>\n",
       "      <td>6.25</td>\n",
       "      <td>19.94</td>\n",
       "      <td>0</td>\n",
       "      <td>214</td>\n",
       "    </tr>\n",
       "    <tr>\n",
       "      <th>3</th>\n",
       "      <td>3.09</td>\n",
       "      <td>17.35</td>\n",
       "      <td>0</td>\n",
       "      <td>1715</td>\n",
       "    </tr>\n",
       "    <tr>\n",
       "      <th rowspan=\"3\" valign=\"top\">True</th>\n",
       "      <th>1</th>\n",
       "      <td>7164.52</td>\n",
       "      <td>14177.94</td>\n",
       "      <td>0</td>\n",
       "      <td>68062</td>\n",
       "    </tr>\n",
       "    <tr>\n",
       "      <th>2</th>\n",
       "      <td>8979.42</td>\n",
       "      <td>12031.18</td>\n",
       "      <td>0</td>\n",
       "      <td>64424</td>\n",
       "    </tr>\n",
       "    <tr>\n",
       "      <th>3</th>\n",
       "      <td>5538.57</td>\n",
       "      <td>9454.80</td>\n",
       "      <td>0</td>\n",
       "      <td>64443</td>\n",
       "    </tr>\n",
       "  </tbody>\n",
       "</table>\n",
       "</div>"
      ],
      "text/plain": [
       "                          mean       std  amin   amax\n",
       "visitor branch_office                                \n",
       "False   1                 5.26     18.44     0    315\n",
       "        2                 6.25     19.94     0    214\n",
       "        3                 3.09     17.35     0   1715\n",
       "True    1              7164.52  14177.94     0  68062\n",
       "        2              8979.42  12031.18     0  64424\n",
       "        3              5538.57   9454.80     0  64443"
      ]
     },
     "execution_count": 89,
     "metadata": {},
     "output_type": "execute_result"
    }
   ],
   "source": [
    "df_e.groupby([\"visitor\", \"branch_office\"])[\"tiempodeses\"].agg([np.mean, np.std, np.min, np.max])"
   ]
  },
  {
   "cell_type": "markdown",
   "metadata": {},
   "source": [
    "Summarizing everything we've found so far:\n",
    "\n",
    "1. In general, there are ~2 times more non-visitors than visitors.\n",
    "2. At the branch level, ratios between visitors and non-visitors varies and can reach even greater values.\n",
    "3. There seems to be a high correlation between session times and user types.\n",
    "4. There does not seem to be a high description between the time dimensionalities and the user types.\n",
    "5. Session times do not seem to be highly affected by the difference in branches."
   ]
  },
  {
   "cell_type": "markdown",
   "metadata": {},
   "source": [
    "Based on this findings, let us try and our first attempt at predicting the User type class.\n",
    "\n",
    "We will use the 75% quartile of session time from non-visitors as a cutting point."
   ]
  },
  {
   "cell_type": "code",
   "execution_count": 90,
   "metadata": {},
   "outputs": [],
   "source": [
    "threshold = 0 # 75% quantile\n",
    "df_e['predicted_class']=df_e['tiempodeses']>threshold"
   ]
  },
  {
   "cell_type": "markdown",
   "metadata": {},
   "source": [
    "Let's compare the actual class versus the predicted class through a correlation analysis."
   ]
  },
  {
   "cell_type": "code",
   "execution_count": 91,
   "metadata": {},
   "outputs": [
    {
     "data": {
      "text/plain": [
       "0.8653523919391636"
      ]
     },
     "execution_count": 91,
     "metadata": {},
     "output_type": "execute_result"
    }
   ],
   "source": [
    "df_e['predicted_class'].corr(df_e['visitor'])"
   ]
  },
  {
   "cell_type": "markdown",
   "metadata": {},
   "source": [
    "This is actually pretty good, a single threshold allow us to predict the correct class 8.5 out of 10 times. What if we play a little bit more with the threshold?"
   ]
  },
  {
   "cell_type": "code",
   "execution_count": 92,
   "metadata": {},
   "outputs": [
    {
     "data": {
      "text/plain": [
       "0.6181007403319427"
      ]
     },
     "execution_count": 92,
     "metadata": {},
     "output_type": "execute_result"
    }
   ],
   "source": [
    "threshold = 1715 # max tiempodeses for non-visitors\n",
    "df_e['predicted_class']=df_e['tiempodeses']>threshold\n",
    "df_e['predicted_class'].corr(df_e['visitor'])"
   ]
  },
  {
   "cell_type": "markdown",
   "metadata": {},
   "source": [
    "Not great, another clue pointing towards defining the value as an outlier"
   ]
  },
  {
   "cell_type": "code",
   "execution_count": 93,
   "metadata": {},
   "outputs": [
    {
     "data": {
      "text/plain": [
       "0.8698539310165189"
      ]
     },
     "execution_count": 93,
     "metadata": {},
     "output_type": "execute_result"
    }
   ],
   "source": [
    "threshold = 4.39 # mean tiempodeses for non-visitors\n",
    "df_e['predicted_class']=df_e['tiempodeses']>threshold\n",
    "df_e['predicted_class'].corr(df_e['visitor'])"
   ]
  },
  {
   "cell_type": "markdown",
   "metadata": {},
   "source": [
    "A little bit of improvement, what if we consider the std as well?\n"
   ]
  },
  {
   "cell_type": "code",
   "execution_count": 94,
   "metadata": {},
   "outputs": [
    {
     "data": {
      "text/plain": [
       "0.8901997505726059"
      ]
     },
     "execution_count": 94,
     "metadata": {},
     "output_type": "execute_result"
    }
   ],
   "source": [
    "threshold = 4.39 + 18.12 # mean + std tiempodeses for non-visitors\n",
    "df_e['predicted_class'] = df_e['tiempodeses'] > threshold\n",
    "df_e['predicted_class'].corr(df_e['visitor'])"
   ]
  },
  {
   "cell_type": "markdown",
   "metadata": {},
   "source": [
    "Much better, almost 9 out of 10 times we are predicting the right class. Could it be that splitting the analysis by branch office we get better results?"
   ]
  },
  {
   "cell_type": "code",
   "execution_count": 95,
   "metadata": {},
   "outputs": [
    {
     "data": {
      "text/html": [
       "<div>\n",
       "<style scoped>\n",
       "    .dataframe tbody tr th:only-of-type {\n",
       "        vertical-align: middle;\n",
       "    }\n",
       "\n",
       "    .dataframe tbody tr th {\n",
       "        vertical-align: top;\n",
       "    }\n",
       "\n",
       "    .dataframe thead th {\n",
       "        text-align: right;\n",
       "    }\n",
       "</style>\n",
       "<table border=\"1\" class=\"dataframe\">\n",
       "  <thead>\n",
       "    <tr style=\"text-align: right;\">\n",
       "      <th></th>\n",
       "      <th></th>\n",
       "      <th>mean</th>\n",
       "      <th>std</th>\n",
       "      <th>amin</th>\n",
       "      <th>amax</th>\n",
       "    </tr>\n",
       "    <tr>\n",
       "      <th>visitor</th>\n",
       "      <th>branch_office</th>\n",
       "      <th></th>\n",
       "      <th></th>\n",
       "      <th></th>\n",
       "      <th></th>\n",
       "    </tr>\n",
       "  </thead>\n",
       "  <tbody>\n",
       "    <tr>\n",
       "      <th rowspan=\"3\" valign=\"top\">False</th>\n",
       "      <th>1</th>\n",
       "      <td>5.26</td>\n",
       "      <td>18.44</td>\n",
       "      <td>0</td>\n",
       "      <td>315</td>\n",
       "    </tr>\n",
       "    <tr>\n",
       "      <th>2</th>\n",
       "      <td>6.25</td>\n",
       "      <td>19.94</td>\n",
       "      <td>0</td>\n",
       "      <td>214</td>\n",
       "    </tr>\n",
       "    <tr>\n",
       "      <th>3</th>\n",
       "      <td>3.09</td>\n",
       "      <td>17.35</td>\n",
       "      <td>0</td>\n",
       "      <td>1715</td>\n",
       "    </tr>\n",
       "    <tr>\n",
       "      <th rowspan=\"3\" valign=\"top\">True</th>\n",
       "      <th>1</th>\n",
       "      <td>7164.52</td>\n",
       "      <td>14177.94</td>\n",
       "      <td>0</td>\n",
       "      <td>68062</td>\n",
       "    </tr>\n",
       "    <tr>\n",
       "      <th>2</th>\n",
       "      <td>8979.42</td>\n",
       "      <td>12031.18</td>\n",
       "      <td>0</td>\n",
       "      <td>64424</td>\n",
       "    </tr>\n",
       "    <tr>\n",
       "      <th>3</th>\n",
       "      <td>5538.57</td>\n",
       "      <td>9454.80</td>\n",
       "      <td>0</td>\n",
       "      <td>64443</td>\n",
       "    </tr>\n",
       "  </tbody>\n",
       "</table>\n",
       "</div>"
      ],
      "text/plain": [
       "                          mean       std  amin   amax\n",
       "visitor branch_office                                \n",
       "False   1                 5.26     18.44     0    315\n",
       "        2                 6.25     19.94     0    214\n",
       "        3                 3.09     17.35     0   1715\n",
       "True    1              7164.52  14177.94     0  68062\n",
       "        2              8979.42  12031.18     0  64424\n",
       "        3              5538.57   9454.80     0  64443"
      ]
     },
     "execution_count": 95,
     "metadata": {},
     "output_type": "execute_result"
    }
   ],
   "source": [
    "df_e.groupby([\"visitor\", \"branch_office\"])[\"tiempodeses\"].agg([np.mean, np.std, np.min, np.max])"
   ]
  },
  {
   "cell_type": "code",
   "execution_count": 96,
   "metadata": {},
   "outputs": [],
   "source": [
    "def classification(branch: pd.Series, session_time: pd.Series) -> bool:\n",
    "    \"\"\"Classify users into visitor and non-visitor\n",
    "\n",
    "    Args:\n",
    "        branch (int): Branch identifier\n",
    "        session_time (int): Session length in seconds\n",
    "\n",
    "    Returns:\n",
    "        bool: True for visitor, False otherwise\n",
    "    \"\"\"\n",
    "    if branch == 1:\n",
    "        if session_time > (5.26 + 18.44):\n",
    "            return True\n",
    "    elif branch == 2:\n",
    "        if session_time > (6.25 + 19.94):\n",
    "            return True\n",
    "    elif branch == 3:\n",
    "        if session_time > (3.09 + 17.35):\n",
    "            return True\n",
    "    return False\n",
    "\n",
    "df_e['predicted_class'] = df_e[['branch_office', 'tiempodeses']].apply(lambda x: classification(x[0], x[1]), axis=1)"
   ]
  },
  {
   "cell_type": "code",
   "execution_count": 97,
   "metadata": {},
   "outputs": [
    {
     "data": {
      "text/plain": [
       "0.8901649771982967"
      ]
     },
     "execution_count": 97,
     "metadata": {},
     "output_type": "execute_result"
    }
   ],
   "source": [
    "df_e['predicted_class'].corr(df_e['visitor'])"
   ]
  },
  {
   "cell_type": "markdown",
   "metadata": {},
   "source": [
    "Looks like there is no improvement, we could go further down the rabbit hole of manual manipulation of rules or we could always use an automated way of finding the rules."
   ]
  },
  {
   "cell_type": "code",
   "execution_count": 98,
   "metadata": {},
   "outputs": [],
   "source": [
    "def load_dataset(dataset: pd.DataFrame, feature_names: list, target_name: str = None) -> tuple:\n",
    "    \"\"\"Splits a dataframe into features\n",
    "    and target values\n",
    "\n",
    "    Args:\n",
    "        dataset (pd.Dataframe): Dataset with features and target values\n",
    "\n",
    "    Returns:\n",
    "        tuple: Feature and target variables in a two-element tuple\n",
    "    \"\"\"\n",
    "    # print(feature_names, target_name)\n",
    "    X = dataset.loc[:, feature_names]\n",
    "    # initialize an empty dataframe\n",
    "    y = pd.DataFrame()\n",
    "    if target_name:\n",
    "        y = dataset.loc[:, target_name]\n",
    "    return (X, y)"
   ]
  },
  {
   "cell_type": "markdown",
   "metadata": {},
   "source": [
    "We need to adjust our dataset to the methods expectations, all object features have to converted to a numerical form, for example."
   ]
  },
  {
   "cell_type": "code",
   "execution_count": 99,
   "metadata": {},
   "outputs": [],
   "source": [
    "from sklearn.ensemble import ExtraTreesClassifier\n",
    "from sklearn.feature_selection import SelectFromModel\n",
    "\n",
    "# pre-process the data to find the best features\n",
    "\n",
    "# fix device_mac, turn string values to numeric ones\n",
    "codes, uniques = pd.factorize(df_e[\"device_mac\"], sort=True)\n",
    "df_e['device_mac']=codes\n",
    "\n",
    "# fix day_of_week_tz, turn string values to numeric ones\n",
    "codes, uniques = pd.factorize(df_e[\"day_of_week_tz\"], sort=True)\n",
    "df_e['day_of_week_tz']=codes\n",
    "\n",
    "# get rid of target value and its derived features. \n",
    "X_columns = df_e.loc[:, ~df_e.columns.isin(['visitor', 'visitor_int64','predicted_class', 'Unnamed: 0'])].columns.values\n",
    "y_column = 'visitor_int64'\n",
    "\n",
    "X, y = load_dataset(df_e, X_columns, y_column)"
   ]
  },
  {
   "cell_type": "markdown",
   "metadata": {},
   "source": [
    "Now that we are ready, we can pass the data to the classifier and let it compute the feature importance"
   ]
  },
  {
   "cell_type": "code",
   "execution_count": 100,
   "metadata": {},
   "outputs": [],
   "source": [
    "# randomly selecting an ensambler, leaving all parameters to default values and allowing it to create 50 estimators\n",
    "clf = ExtraTreesClassifier(n_estimators=50)\n",
    "clf = clf.fit(X, y)     "
   ]
  },
  {
   "cell_type": "markdown",
   "metadata": {},
   "source": [
    "Let's now print the feature importance, the greater the value the better as a predictor for the target value"
   ]
  },
  {
   "cell_type": "code",
   "execution_count": 101,
   "metadata": {},
   "outputs": [
    {
     "name": "stdout",
     "output_type": "stream",
     "text": [
      "device_mac :  0.06918437720897148\n",
      "branch_office :  0.019751607971297398\n",
      "month_tz :  0.000511848065117431\n",
      "day_tz :  0.007625160444791184\n",
      "day_of_week_tz :  0.004577683555688773\n",
      "hour_tz :  0.029144529139712317\n",
      "tiempodeses :  0.8692047936144215\n"
     ]
    }
   ],
   "source": [
    "for name, importance in (zip(clf.feature_names_in_, clf.feature_importances_)):\n",
    "    print(name,\": \", importance)"
   ]
  },
  {
   "cell_type": "markdown",
   "metadata": {},
   "source": [
    "We can see now, according to our ensemble, that the top three features are `tiempodeses`, `hour_tz` and surprisingly `device_mac`. We would have to be careful with this last feature as it could very much bias our results in future samples."
   ]
  },
  {
   "cell_type": "code",
   "execution_count": 102,
   "metadata": {},
   "outputs": [
    {
     "name": "stderr",
     "output_type": "stream",
     "text": [
      "C:\\Users\\ruben\\OneDrive\\Documents\\DevF\\environment\\lib\\site-packages\\sklearn\\base.py:443: UserWarning: X has feature names, but SelectFromModel was fitted without feature names\n",
      "  warnings.warn(\n"
     ]
    },
    {
     "data": {
      "text/plain": [
       "(249556, 1)"
      ]
     },
     "execution_count": 102,
     "metadata": {},
     "output_type": "execute_result"
    }
   ],
   "source": [
    "model = SelectFromModel(clf, prefit=True)\n",
    "X_new = model.transform(X)\n",
    "X_new.shape"
   ]
  },
  {
   "cell_type": "markdown",
   "metadata": {},
   "source": [
    "According to the SelectFromModel transfomer, with default configurations, there's a single descriptor worth using, in this case `tiempodeses`. Of course, if we wanted to we could change the selection threshold and/or rules.\n",
    "\n",
    "Let's try and train a model using 70% of the data as training data and the rest for testing purposes."
   ]
  },
  {
   "cell_type": "code",
   "execution_count": 103,
   "metadata": {},
   "outputs": [],
   "source": [
    "from sklearn.model_selection import train_test_split\n",
    "\n",
    "X_train, X_test, y_train, y_test = train_test_split(\n",
    "    X_new, y, test_size=0.3, random_state=0)\n",
    "\n",
    "# train a new classifier with the training data\n",
    "clf_new = ExtraTreesClassifier(n_estimators=50)\n",
    "clf_new = clf_new.fit(X_train, y_train)"
   ]
  },
  {
   "cell_type": "markdown",
   "metadata": {},
   "source": [
    "Let's see how it performs vs the test set"
   ]
  },
  {
   "cell_type": "code",
   "execution_count": 104,
   "metadata": {},
   "outputs": [
    {
     "data": {
      "text/plain": [
       "0.9619725646813683"
      ]
     },
     "execution_count": 104,
     "metadata": {},
     "output_type": "execute_result"
    }
   ],
   "source": [
    "clf_new.score(X_test, y_test)"
   ]
  },
  {
   "cell_type": "markdown",
   "metadata": {},
   "source": [
    "This is a great improvement, 96% using a single descriptor is great as it makes the model lighter and easier to maintain. It is also worth nothing that there is not a single tweak in our model parameters, all are default values."
   ]
  },
  {
   "cell_type": "markdown",
   "metadata": {},
   "source": [
    "Let use evaluate the model in our validation set"
   ]
  },
  {
   "cell_type": "code",
   "execution_count": 105,
   "metadata": {},
   "outputs": [
    {
     "name": "stderr",
     "output_type": "stream",
     "text": [
      "C:\\Users\\ruben\\OneDrive\\Documents\\DevF\\environment\\lib\\site-packages\\sklearn\\base.py:443: UserWarning: X has feature names, but ExtraTreesClassifier was fitted without feature names\n",
      "  warnings.warn(\n"
     ]
    }
   ],
   "source": [
    "# load validation set\n",
    "df_v = pd.read_csv(VALIDATION_SET)\n",
    "\n",
    "# we don't need to run the same pre-processing steps as we will\n",
    "# go ahead and select feature that is ready.\n",
    "\n",
    "# get descriptive variable tiempodeses\n",
    "X_columns = df_v.loc[:, df_v.columns.isin(['tiempodeses'])].columns.values\n",
    "y_column = None\n",
    "\n",
    "X_val, y_val = load_dataset(df_v, X_columns, y_column)\n",
    "\n",
    "prediction = clf_new.predict(X_val)"
   ]
  },
  {
   "cell_type": "markdown",
   "metadata": {},
   "source": [
    "We could now save the results back into the validation set"
   ]
  },
  {
   "cell_type": "code",
   "execution_count": 106,
   "metadata": {},
   "outputs": [],
   "source": [
    "df_v['predicted_visitor'] = prediction"
   ]
  },
  {
   "cell_type": "code",
   "execution_count": 107,
   "metadata": {},
   "outputs": [
    {
     "data": {
      "text/html": [
       "<div>\n",
       "<style scoped>\n",
       "    .dataframe tbody tr th:only-of-type {\n",
       "        vertical-align: middle;\n",
       "    }\n",
       "\n",
       "    .dataframe tbody tr th {\n",
       "        vertical-align: top;\n",
       "    }\n",
       "\n",
       "    .dataframe thead th {\n",
       "        text-align: right;\n",
       "    }\n",
       "</style>\n",
       "<table border=\"1\" class=\"dataframe\">\n",
       "  <thead>\n",
       "    <tr style=\"text-align: right;\">\n",
       "      <th></th>\n",
       "      <th>Unnamed: 0</th>\n",
       "      <th>device_mac</th>\n",
       "      <th>branch_office</th>\n",
       "      <th>month_tz</th>\n",
       "      <th>day_tz</th>\n",
       "      <th>day_of_week_tz</th>\n",
       "      <th>hour_tz</th>\n",
       "      <th>tiempodeses</th>\n",
       "      <th>predicted_visitor</th>\n",
       "    </tr>\n",
       "  </thead>\n",
       "  <tbody>\n",
       "    <tr>\n",
       "      <th>0</th>\n",
       "      <td>1</td>\n",
       "      <td>a8:81:95:56:31:3c</td>\n",
       "      <td>1</td>\n",
       "      <td>11</td>\n",
       "      <td>17</td>\n",
       "      <td>Thursday</td>\n",
       "      <td>4</td>\n",
       "      <td>0</td>\n",
       "      <td>0</td>\n",
       "    </tr>\n",
       "    <tr>\n",
       "      <th>1</th>\n",
       "      <td>2</td>\n",
       "      <td>44:6e:e5:1b:68:81</td>\n",
       "      <td>3</td>\n",
       "      <td>11</td>\n",
       "      <td>3</td>\n",
       "      <td>Thursday</td>\n",
       "      <td>22</td>\n",
       "      <td>477</td>\n",
       "      <td>1</td>\n",
       "    </tr>\n",
       "    <tr>\n",
       "      <th>2</th>\n",
       "      <td>3</td>\n",
       "      <td>0c:b3:19:10:78:17</td>\n",
       "      <td>3</td>\n",
       "      <td>11</td>\n",
       "      <td>12</td>\n",
       "      <td>Saturday</td>\n",
       "      <td>10</td>\n",
       "      <td>0</td>\n",
       "      <td>0</td>\n",
       "    </tr>\n",
       "    <tr>\n",
       "      <th>3</th>\n",
       "      <td>4</td>\n",
       "      <td>44:74:6c:0a:20:23</td>\n",
       "      <td>3</td>\n",
       "      <td>11</td>\n",
       "      <td>27</td>\n",
       "      <td>Sunday</td>\n",
       "      <td>21</td>\n",
       "      <td>0</td>\n",
       "      <td>0</td>\n",
       "    </tr>\n",
       "    <tr>\n",
       "      <th>4</th>\n",
       "      <td>5</td>\n",
       "      <td>ac:5f:3e:c8:dc:35</td>\n",
       "      <td>1</td>\n",
       "      <td>11</td>\n",
       "      <td>27</td>\n",
       "      <td>Sunday</td>\n",
       "      <td>16</td>\n",
       "      <td>0</td>\n",
       "      <td>0</td>\n",
       "    </tr>\n",
       "    <tr>\n",
       "      <th>...</th>\n",
       "      <td>...</td>\n",
       "      <td>...</td>\n",
       "      <td>...</td>\n",
       "      <td>...</td>\n",
       "      <td>...</td>\n",
       "      <td>...</td>\n",
       "      <td>...</td>\n",
       "      <td>...</td>\n",
       "      <td>...</td>\n",
       "    </tr>\n",
       "    <tr>\n",
       "      <th>89995</th>\n",
       "      <td>89996</td>\n",
       "      <td>44:74:6c:cc:85:28</td>\n",
       "      <td>1</td>\n",
       "      <td>11</td>\n",
       "      <td>29</td>\n",
       "      <td>Tuesday</td>\n",
       "      <td>18</td>\n",
       "      <td>530</td>\n",
       "      <td>1</td>\n",
       "    </tr>\n",
       "    <tr>\n",
       "      <th>89996</th>\n",
       "      <td>89997</td>\n",
       "      <td>a0:91:69:e3:58:ba</td>\n",
       "      <td>3</td>\n",
       "      <td>11</td>\n",
       "      <td>28</td>\n",
       "      <td>Monday</td>\n",
       "      <td>7</td>\n",
       "      <td>0</td>\n",
       "      <td>0</td>\n",
       "    </tr>\n",
       "    <tr>\n",
       "      <th>89997</th>\n",
       "      <td>89998</td>\n",
       "      <td>64:51:06:9c:7b:57</td>\n",
       "      <td>3</td>\n",
       "      <td>11</td>\n",
       "      <td>5</td>\n",
       "      <td>Saturday</td>\n",
       "      <td>9</td>\n",
       "      <td>0</td>\n",
       "      <td>0</td>\n",
       "    </tr>\n",
       "    <tr>\n",
       "      <th>89998</th>\n",
       "      <td>89999</td>\n",
       "      <td>f8:cf:c5:d9:10:79</td>\n",
       "      <td>3</td>\n",
       "      <td>11</td>\n",
       "      <td>4</td>\n",
       "      <td>Friday</td>\n",
       "      <td>9</td>\n",
       "      <td>0</td>\n",
       "      <td>0</td>\n",
       "    </tr>\n",
       "    <tr>\n",
       "      <th>89999</th>\n",
       "      <td>90000</td>\n",
       "      <td>78:c3:e9:df:75:7c</td>\n",
       "      <td>1</td>\n",
       "      <td>11</td>\n",
       "      <td>9</td>\n",
       "      <td>Wednesday</td>\n",
       "      <td>19</td>\n",
       "      <td>0</td>\n",
       "      <td>0</td>\n",
       "    </tr>\n",
       "  </tbody>\n",
       "</table>\n",
       "<p>90000 rows × 9 columns</p>\n",
       "</div>"
      ],
      "text/plain": [
       "       Unnamed: 0         device_mac  branch_office  month_tz  day_tz  \\\n",
       "0               1  a8:81:95:56:31:3c              1        11      17   \n",
       "1               2  44:6e:e5:1b:68:81              3        11       3   \n",
       "2               3  0c:b3:19:10:78:17              3        11      12   \n",
       "3               4  44:74:6c:0a:20:23              3        11      27   \n",
       "4               5  ac:5f:3e:c8:dc:35              1        11      27   \n",
       "...           ...                ...            ...       ...     ...   \n",
       "89995       89996  44:74:6c:cc:85:28              1        11      29   \n",
       "89996       89997  a0:91:69:e3:58:ba              3        11      28   \n",
       "89997       89998  64:51:06:9c:7b:57              3        11       5   \n",
       "89998       89999  f8:cf:c5:d9:10:79              3        11       4   \n",
       "89999       90000  78:c3:e9:df:75:7c              1        11       9   \n",
       "\n",
       "      day_of_week_tz  hour_tz  tiempodeses  predicted_visitor  \n",
       "0           Thursday        4            0                  0  \n",
       "1           Thursday       22          477                  1  \n",
       "2           Saturday       10            0                  0  \n",
       "3             Sunday       21            0                  0  \n",
       "4             Sunday       16            0                  0  \n",
       "...              ...      ...          ...                ...  \n",
       "89995        Tuesday       18          530                  1  \n",
       "89996         Monday        7            0                  0  \n",
       "89997       Saturday        9            0                  0  \n",
       "89998         Friday        9            0                  0  \n",
       "89999      Wednesday       19            0                  0  \n",
       "\n",
       "[90000 rows x 9 columns]"
      ]
     },
     "execution_count": 107,
     "metadata": {},
     "output_type": "execute_result"
    }
   ],
   "source": [
    "df_v"
   ]
  },
  {
   "cell_type": "markdown",
   "metadata": {},
   "source": [
    "We can also save the produced model, this way we can share it with other developers or use it for our own interest without the need of retraining everytime."
   ]
  },
  {
   "cell_type": "code",
   "execution_count": 108,
   "metadata": {},
   "outputs": [],
   "source": [
    "from joblib import dump, load\n",
    "import os\n",
    "\n",
    "# save it if it doesn-t exist already\n",
    "if not os.path.exists('./model/devf_clf.joblib'):\n",
    "    dump(clf, './model/devf_clf.joblib')"
   ]
  },
  {
   "cell_type": "markdown",
   "metadata": {},
   "source": [
    "To load our model we can always say\n",
    "```\n",
    "clf = load('path\\to\\model.joblib')\n",
    "```"
   ]
  }
 ],
 "metadata": {
  "interpreter": {
   "hash": "374a0045d68a2cd5f3fe8f1a55f35fda77ca0cb8c2d65f84e0492a51b74034f0"
  },
  "kernelspec": {
   "display_name": "Python 3.8.6 64-bit (system)",
   "language": "python",
   "name": "python3"
  },
  "language_info": {
   "codemirror_mode": {
    "name": "ipython",
    "version": 3
   },
   "file_extension": ".py",
   "mimetype": "text/x-python",
   "name": "python",
   "nbconvert_exporter": "python",
   "pygments_lexer": "ipython3",
   "version": "3.8.6"
  },
  "orig_nbformat": 4
 },
 "nbformat": 4,
 "nbformat_minor": 2
}
