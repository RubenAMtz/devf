{
 "cells": [
  {
   "cell_type": "markdown",
   "metadata": {},
   "source": [
    "# Exploratory data analysis"
   ]
  },
  {
   "cell_type": "code",
   "execution_count": 1,
   "metadata": {},
   "outputs": [],
   "source": [
    "import streamlit as st\n",
    "import numpy as np\n",
    "import pandas as pd\n",
    "import matplotlib as plt\n",
    "from matplotlib.figure import Figure\n",
    "from PIL import Image\n",
    "# from streamlit_lottie import st_lottie\n",
    "import requests\n",
    "from constants import TRAINING_SET, TESTING_SET\n",
    "import io\n",
    "from typing import Any\n",
    "\n",
    "pd.set_option(\"display.precision\", 2)\n",
    "%config InlineBackend.figure_format = 'retina'"
   ]
  },
  {
   "cell_type": "code",
   "execution_count": 2,
   "metadata": {},
   "outputs": [
    {
     "data": {
      "text/html": [
       "<div>\n",
       "<style scoped>\n",
       "    .dataframe tbody tr th:only-of-type {\n",
       "        vertical-align: middle;\n",
       "    }\n",
       "\n",
       "    .dataframe tbody tr th {\n",
       "        vertical-align: top;\n",
       "    }\n",
       "\n",
       "    .dataframe thead th {\n",
       "        text-align: right;\n",
       "    }\n",
       "</style>\n",
       "<table border=\"1\" class=\"dataframe\">\n",
       "  <thead>\n",
       "    <tr style=\"text-align: right;\">\n",
       "      <th></th>\n",
       "      <th>Unnamed: 0</th>\n",
       "      <th>device_mac</th>\n",
       "      <th>branch_office</th>\n",
       "      <th>month_tz</th>\n",
       "      <th>day_tz</th>\n",
       "      <th>day_of_week_tz</th>\n",
       "      <th>hour_tz</th>\n",
       "      <th>visitor</th>\n",
       "      <th>tiempodeses</th>\n",
       "    </tr>\n",
       "  </thead>\n",
       "  <tbody>\n",
       "    <tr>\n",
       "      <th>0</th>\n",
       "      <td>1</td>\n",
       "      <td>00:00:00:6a:17:ce</td>\n",
       "      <td>1</td>\n",
       "      <td>11</td>\n",
       "      <td>2</td>\n",
       "      <td>Wednesday</td>\n",
       "      <td>0</td>\n",
       "      <td>True</td>\n",
       "      <td>2676</td>\n",
       "    </tr>\n",
       "    <tr>\n",
       "      <th>1</th>\n",
       "      <td>2</td>\n",
       "      <td>00:00:00:6a:17:ce</td>\n",
       "      <td>1</td>\n",
       "      <td>11</td>\n",
       "      <td>2</td>\n",
       "      <td>Wednesday</td>\n",
       "      <td>1</td>\n",
       "      <td>True</td>\n",
       "      <td>2676</td>\n",
       "    </tr>\n",
       "    <tr>\n",
       "      <th>2</th>\n",
       "      <td>3</td>\n",
       "      <td>00:00:00:6a:78:ae</td>\n",
       "      <td>1</td>\n",
       "      <td>10</td>\n",
       "      <td>30</td>\n",
       "      <td>Sunday</td>\n",
       "      <td>20</td>\n",
       "      <td>False</td>\n",
       "      <td>0</td>\n",
       "    </tr>\n",
       "    <tr>\n",
       "      <th>3</th>\n",
       "      <td>4</td>\n",
       "      <td>00:00:02:fa:9c:12</td>\n",
       "      <td>1</td>\n",
       "      <td>11</td>\n",
       "      <td>13</td>\n",
       "      <td>Sunday</td>\n",
       "      <td>12</td>\n",
       "      <td>True</td>\n",
       "      <td>2272</td>\n",
       "    </tr>\n",
       "    <tr>\n",
       "      <th>4</th>\n",
       "      <td>5</td>\n",
       "      <td>00:00:08:7d:e2:58</td>\n",
       "      <td>3</td>\n",
       "      <td>11</td>\n",
       "      <td>4</td>\n",
       "      <td>Friday</td>\n",
       "      <td>19</td>\n",
       "      <td>False</td>\n",
       "      <td>0</td>\n",
       "    </tr>\n",
       "  </tbody>\n",
       "</table>\n",
       "</div>"
      ],
      "text/plain": [
       "   Unnamed: 0         device_mac  branch_office  month_tz  day_tz  \\\n",
       "0           1  00:00:00:6a:17:ce              1        11       2   \n",
       "1           2  00:00:00:6a:17:ce              1        11       2   \n",
       "2           3  00:00:00:6a:78:ae              1        10      30   \n",
       "3           4  00:00:02:fa:9c:12              1        11      13   \n",
       "4           5  00:00:08:7d:e2:58              3        11       4   \n",
       "\n",
       "  day_of_week_tz  hour_tz  visitor  tiempodeses  \n",
       "0      Wednesday        0     True         2676  \n",
       "1      Wednesday        1     True         2676  \n",
       "2         Sunday       20    False            0  \n",
       "3         Sunday       12     True         2272  \n",
       "4         Friday       19    False            0  "
      ]
     },
     "execution_count": 2,
     "metadata": {},
     "output_type": "execute_result"
    }
   ],
   "source": [
    "df_e = pd.read_csv(TRAINING_SET)\n",
    "df_e.head()"
   ]
  },
  {
   "cell_type": "markdown",
   "metadata": {},
   "source": [
    "### Let’s have a look at data dimensionality, feature names, and feature types."
   ]
  },
  {
   "cell_type": "code",
   "execution_count": 3,
   "metadata": {},
   "outputs": [
    {
     "name": "stdout",
     "output_type": "stream",
     "text": [
      "(249556, 9)\n"
     ]
    }
   ],
   "source": [
    "print(df_e.shape)"
   ]
  },
  {
   "cell_type": "markdown",
   "metadata": {},
   "source": [
    "From the output we can see that the dataframe contains 249,556 rows and 9 columns. Now let's print the column names using `columns`"
   ]
  },
  {
   "cell_type": "code",
   "execution_count": 4,
   "metadata": {},
   "outputs": [
    {
     "name": "stdout",
     "output_type": "stream",
     "text": [
      "Index(['Unnamed: 0', 'device_mac', 'branch_office', 'month_tz', 'day_tz',\n",
      "       'day_of_week_tz', 'hour_tz', 'visitor', 'tiempodeses'],\n",
      "      dtype='object')\n"
     ]
    }
   ],
   "source": [
    "print(df_e.columns)"
   ]
  },
  {
   "cell_type": "markdown",
   "metadata": {},
   "source": [
    "Let's explore more general information using `info`"
   ]
  },
  {
   "cell_type": "code",
   "execution_count": 5,
   "metadata": {},
   "outputs": [
    {
     "name": "stdout",
     "output_type": "stream",
     "text": [
      "<class 'pandas.core.frame.DataFrame'>\n",
      "RangeIndex: 249556 entries, 0 to 249555\n",
      "Data columns (total 9 columns):\n",
      " #   Column          Non-Null Count   Dtype \n",
      "---  ------          --------------   ----- \n",
      " 0   Unnamed: 0      249556 non-null  int64 \n",
      " 1   device_mac      249556 non-null  object\n",
      " 2   branch_office   249556 non-null  int64 \n",
      " 3   month_tz        249556 non-null  int64 \n",
      " 4   day_tz          249556 non-null  int64 \n",
      " 5   day_of_week_tz  249556 non-null  object\n",
      " 6   hour_tz         249556 non-null  int64 \n",
      " 7   visitor         249556 non-null  bool  \n",
      " 8   tiempodeses     249556 non-null  int64 \n",
      "dtypes: bool(1), int64(6), object(2)\n",
      "memory usage: 15.5+ MB\n"
     ]
    }
   ],
   "source": [
    "df_e.info()"
   ]
  },
  {
   "cell_type": "markdown",
   "metadata": {},
   "source": [
    "Like we said, 9 columns numbered from 0 to 8, the first column is unnamed, potentially could be the index of our table records. `int64`, `object` and `bool` are the data types of our features. Only one feature is `bool`, being more precise and two are of type `object`, the rest are `int64`. Not entirely sure if **`day_of_week_tz`** should be an `object` type as it holds week day names, maybe a `category` data type is better suited. According to the initial documentation the `bool` variable **`visitor`** is actually the classification or target value.\n",
    "\n",
    "We can also see that there are no missing values. Each column contains the same number of non-null values equal to the total size of rows that we saw with `shape`.\n",
    "\n",
    "We can **change the column type** with the `astype` method. Let's apply this method to the **`visitor`** feature to convert it into `int64`. We will not be modifying the same column but rather we will create a new column with the changed data type."
   ]
  },
  {
   "cell_type": "code",
   "execution_count": 6,
   "metadata": {},
   "outputs": [],
   "source": [
    "df_e['visitor_int64']=df_e['visitor'].astype(\"int64\")"
   ]
  },
  {
   "cell_type": "markdown",
   "metadata": {},
   "source": [
    "The `describe` method shows basic statistical characteristics of each numerical feature (`int64` and `float64` types): number of non-missing values, mean, standard deviation, range, median, 0.25 and 0.75 quartiles."
   ]
  },
  {
   "cell_type": "code",
   "execution_count": 7,
   "metadata": {},
   "outputs": [
    {
     "data": {
      "text/html": [
       "<div>\n",
       "<style scoped>\n",
       "    .dataframe tbody tr th:only-of-type {\n",
       "        vertical-align: middle;\n",
       "    }\n",
       "\n",
       "    .dataframe tbody tr th {\n",
       "        vertical-align: top;\n",
       "    }\n",
       "\n",
       "    .dataframe thead th {\n",
       "        text-align: right;\n",
       "    }\n",
       "</style>\n",
       "<table border=\"1\" class=\"dataframe\">\n",
       "  <thead>\n",
       "    <tr style=\"text-align: right;\">\n",
       "      <th></th>\n",
       "      <th>Unnamed: 0</th>\n",
       "      <th>branch_office</th>\n",
       "      <th>month_tz</th>\n",
       "      <th>day_tz</th>\n",
       "      <th>hour_tz</th>\n",
       "      <th>tiempodeses</th>\n",
       "      <th>visitor_int64</th>\n",
       "    </tr>\n",
       "  </thead>\n",
       "  <tbody>\n",
       "    <tr>\n",
       "      <th>count</th>\n",
       "      <td>249556.00</td>\n",
       "      <td>249556.00</td>\n",
       "      <td>249556.00</td>\n",
       "      <td>249556.00</td>\n",
       "      <td>249556.00</td>\n",
       "      <td>249556.00</td>\n",
       "      <td>249556.00</td>\n",
       "    </tr>\n",
       "    <tr>\n",
       "      <th>mean</th>\n",
       "      <td>124778.50</td>\n",
       "      <td>1.88</td>\n",
       "      <td>10.88</td>\n",
       "      <td>14.80</td>\n",
       "      <td>13.64</td>\n",
       "      <td>2374.75</td>\n",
       "      <td>0.34</td>\n",
       "    </tr>\n",
       "    <tr>\n",
       "      <th>std</th>\n",
       "      <td>72040.76</td>\n",
       "      <td>0.94</td>\n",
       "      <td>0.33</td>\n",
       "      <td>9.47</td>\n",
       "      <td>5.27</td>\n",
       "      <td>8058.89</td>\n",
       "      <td>0.47</td>\n",
       "    </tr>\n",
       "    <tr>\n",
       "      <th>min</th>\n",
       "      <td>1.00</td>\n",
       "      <td>1.00</td>\n",
       "      <td>10.00</td>\n",
       "      <td>1.00</td>\n",
       "      <td>0.00</td>\n",
       "      <td>0.00</td>\n",
       "      <td>0.00</td>\n",
       "    </tr>\n",
       "    <tr>\n",
       "      <th>25%</th>\n",
       "      <td>62389.75</td>\n",
       "      <td>1.00</td>\n",
       "      <td>11.00</td>\n",
       "      <td>7.00</td>\n",
       "      <td>10.00</td>\n",
       "      <td>0.00</td>\n",
       "      <td>0.00</td>\n",
       "    </tr>\n",
       "    <tr>\n",
       "      <th>50%</th>\n",
       "      <td>124778.50</td>\n",
       "      <td>1.00</td>\n",
       "      <td>11.00</td>\n",
       "      <td>13.00</td>\n",
       "      <td>14.00</td>\n",
       "      <td>0.00</td>\n",
       "      <td>0.00</td>\n",
       "    </tr>\n",
       "    <tr>\n",
       "      <th>75%</th>\n",
       "      <td>187167.25</td>\n",
       "      <td>3.00</td>\n",
       "      <td>11.00</td>\n",
       "      <td>24.00</td>\n",
       "      <td>18.00</td>\n",
       "      <td>421.00</td>\n",
       "      <td>1.00</td>\n",
       "    </tr>\n",
       "    <tr>\n",
       "      <th>max</th>\n",
       "      <td>249556.00</td>\n",
       "      <td>3.00</td>\n",
       "      <td>11.00</td>\n",
       "      <td>31.00</td>\n",
       "      <td>23.00</td>\n",
       "      <td>68062.00</td>\n",
       "      <td>1.00</td>\n",
       "    </tr>\n",
       "  </tbody>\n",
       "</table>\n",
       "</div>"
      ],
      "text/plain": [
       "       Unnamed: 0  branch_office   month_tz     day_tz    hour_tz  \\\n",
       "count   249556.00      249556.00  249556.00  249556.00  249556.00   \n",
       "mean    124778.50           1.88      10.88      14.80      13.64   \n",
       "std      72040.76           0.94       0.33       9.47       5.27   \n",
       "min          1.00           1.00      10.00       1.00       0.00   \n",
       "25%      62389.75           1.00      11.00       7.00      10.00   \n",
       "50%     124778.50           1.00      11.00      13.00      14.00   \n",
       "75%     187167.25           3.00      11.00      24.00      18.00   \n",
       "max     249556.00           3.00      11.00      31.00      23.00   \n",
       "\n",
       "       tiempodeses  visitor_int64  \n",
       "count    249556.00      249556.00  \n",
       "mean       2374.75           0.34  \n",
       "std        8058.89           0.47  \n",
       "min           0.00           0.00  \n",
       "25%           0.00           0.00  \n",
       "50%           0.00           0.00  \n",
       "75%         421.00           1.00  \n",
       "max       68062.00           1.00  "
      ]
     },
     "execution_count": 7,
     "metadata": {},
     "output_type": "execute_result"
    }
   ],
   "source": [
    "df_e.describe()"
   ]
  },
  {
   "cell_type": "markdown",
   "metadata": {},
   "source": [
    "The samples were taken in the months of October (`10`) and November (`11`).\n",
    "\n",
    "We see that there could be three banch offices given the range of values given by the `min` and `max` values, we would have to confirm this. The same logic applies for the `hour_tz` feature, meaning that we could have samples from all hours in a day."
   ]
  },
  {
   "cell_type": "code",
   "execution_count": 8,
   "metadata": {},
   "outputs": [
    {
     "name": "stdout",
     "output_type": "stream",
     "text": [
      "[1 3 2]\n",
      "24\n"
     ]
    }
   ],
   "source": [
    "print(pd.unique(df_e[\"branch_office\"]))\n",
    "print(len(pd.unique(df_e[\"hour_tz\"])))"
   ]
  },
  {
   "cell_type": "markdown",
   "metadata": {},
   "source": [
    "We were correct, three unique branches and 24 unique hours. Let's dive a little deeper around the time dimensionalities of the dataframe and visualize their actual distribution, could be an interesting exploration."
   ]
  },
  {
   "cell_type": "code",
   "execution_count": 9,
   "metadata": {},
   "outputs": [
    {
     "data": {
      "text/plain": [
       "Text(0.5, 1.0, 'hour_tz')"
      ]
     },
     "execution_count": 9,
     "metadata": {},
     "output_type": "execute_result"
    },
    {
     "data": {
      "image/png": "[encoded data removed]",
      "text/plain": [
       "<Figure size 1080x432 with 3 Axes>"
      ]
     },
     "metadata": {
      "image/png": {
       "height": 372,
       "width": 890
      },
      "needs_background": "light"
     },
     "output_type": "display_data"
    }
   ],
   "source": [
    "# for all users\n",
    "fig, axs = plt.pyplot.subplots(1, 3, figsize=(15, 6), sharey=False)\n",
    "\n",
    "axs[0].hist(df_e['day_tz'])\n",
    "axs[0].set_title(\"day_tz\")\n",
    "\n",
    "axs[1].hist(df_e['month_tz'])\n",
    "axs[1].set_title(\"month_tz\")\n",
    "\n",
    "axs[2].hist(df_e['hour_tz'])\n",
    "axs[2].set_title(\"hour_tz\")"
   ]
  },
  {
   "cell_type": "markdown",
   "metadata": {},
   "source": [
    "\n",
    "Not really surprising, most visits were during the end of the month. We can clearly see that there many more samples during the month of November. Also, visits hours are usually around the middle of the day.\n",
    "\n",
    "What is also interesting is that the 75% quantile value for the session time in `tiempodeses` indicates that very few visitors make up for the majority of the non-zero values. If I could guess all the zero-value records correspond to the non-visitor class."
   ]
  },
  {
   "cell_type": "code",
   "execution_count": 10,
   "metadata": {},
   "outputs": [
    {
     "name": "stdout",
     "output_type": "stream",
     "text": [
      "Mean of tiempodeses for non-visitors:  4.385169677199475\n",
      "Minimum value of tiempodeses for non-visitors:  0\n",
      "Maximum value of tiempodeses for non-visitors:  1715\n"
     ]
    },
    {
     "data": {
      "text/plain": [
       "count    164312.00\n",
       "mean          4.39\n",
       "std          18.12\n",
       "min           0.00\n",
       "25%           0.00\n",
       "50%           0.00\n",
       "75%           0.00\n",
       "max        1715.00\n",
       "Name: tiempodeses, dtype: float64"
      ]
     },
     "execution_count": 10,
     "metadata": {},
     "output_type": "execute_result"
    }
   ],
   "source": [
    "# let's dig deeper around the non-visitor class and their relation with the time session\n",
    "print(\"Mean of tiempodeses for non-visitors: \", df_e[df_e[\"visitor\"] == 0][\"tiempodeses\"].mean())\n",
    "\n",
    "print(\"Minimum value of tiempodeses for non-visitors: \", df_e[df_e[\"visitor\"] == 0][\"tiempodeses\"].min())\n",
    "print(\"Maximum value of tiempodeses for non-visitors: \", df_e[df_e[\"visitor\"] == 0][\"tiempodeses\"].max())\n",
    "\n",
    "df_e[df_e[\"visitor\"] == 0][\"tiempodeses\"].describe()"
   ]
  },
  {
   "cell_type": "markdown",
   "metadata": {},
   "source": [
    "We can clearly see a high relationship between non-visitors and low values in `tiempodeses`, we could consider outliers the ones with high values.\n",
    "\n",
    "In order to see statistics on non-numerical features, one has to explicitly indicate data types of interest in the `include` parameter."
   ]
  },
  {
   "cell_type": "code",
   "execution_count": 11,
   "metadata": {},
   "outputs": [
    {
     "data": {
      "text/html": [
       "<div>\n",
       "<style scoped>\n",
       "    .dataframe tbody tr th:only-of-type {\n",
       "        vertical-align: middle;\n",
       "    }\n",
       "\n",
       "    .dataframe tbody tr th {\n",
       "        vertical-align: top;\n",
       "    }\n",
       "\n",
       "    .dataframe thead th {\n",
       "        text-align: right;\n",
       "    }\n",
       "</style>\n",
       "<table border=\"1\" class=\"dataframe\">\n",
       "  <thead>\n",
       "    <tr style=\"text-align: right;\">\n",
       "      <th></th>\n",
       "      <th>device_mac</th>\n",
       "      <th>day_of_week_tz</th>\n",
       "      <th>visitor</th>\n",
       "    </tr>\n",
       "  </thead>\n",
       "  <tbody>\n",
       "    <tr>\n",
       "      <th>count</th>\n",
       "      <td>249556</td>\n",
       "      <td>249556</td>\n",
       "      <td>249556</td>\n",
       "    </tr>\n",
       "    <tr>\n",
       "      <th>unique</th>\n",
       "      <td>125252</td>\n",
       "      <td>7</td>\n",
       "      <td>2</td>\n",
       "    </tr>\n",
       "    <tr>\n",
       "      <th>top</th>\n",
       "      <td>00:20:00:94:8e:d3</td>\n",
       "      <td>Wednesday</td>\n",
       "      <td>False</td>\n",
       "    </tr>\n",
       "    <tr>\n",
       "      <th>freq</th>\n",
       "      <td>489</td>\n",
       "      <td>48812</td>\n",
       "      <td>164312</td>\n",
       "    </tr>\n",
       "  </tbody>\n",
       "</table>\n",
       "</div>"
      ],
      "text/plain": [
       "               device_mac day_of_week_tz visitor\n",
       "count              249556         249556  249556\n",
       "unique             125252              7       2\n",
       "top     00:20:00:94:8e:d3      Wednesday   False\n",
       "freq                  489          48812  164312"
      ]
     },
     "execution_count": 11,
     "metadata": {},
     "output_type": "execute_result"
    }
   ],
   "source": [
    "df_e.describe(include=[\"object\", \"bool\"])"
   ]
  },
  {
   "cell_type": "markdown",
   "metadata": {},
   "source": [
    "Let's see the distribution of some of the non-numerical features. For plotting the distribution of categorical features we need to do a little bit of extra work and actually compute the frequency of the unique values, we can use the `value_counts` method to do so."
   ]
  },
  {
   "cell_type": "code",
   "execution_count": 19,
   "metadata": {},
   "outputs": [
    {
     "data": {
      "text/plain": [
       "Text(0.5, 1.0, 'visitor')"
      ]
     },
     "execution_count": 19,
     "metadata": {},
     "output_type": "execute_result"
    },
    {
     "data": {
      "image/png": "[encoded data removed]",
      "text/plain": [
       "<Figure size 1080x432 with 2 Axes>"
      ]
     },
     "metadata": {
      "image/png": {
       "height": 421,
       "width": 890
      },
      "needs_background": "light"
     },
     "output_type": "display_data"
    }
   ],
   "source": [
    "# for all users\n",
    "fig, axs = plt.pyplot.subplots(1, 2, figsize=(15, 6), sharey=False)\n",
    "\n",
    "df_e[\"day_of_week_tz\"].value_counts().plot(kind=\"bar\", ax=axs[0]).set_title(\"day_of_week_tz\")\n",
    "df_e[\"visitor\"].value_counts().plot(kind=\"bar\", ax=axs[1]).set_title(\"visitor\")"
   ]
  },
  {
   "cell_type": "markdown",
   "metadata": {},
   "source": [
    "For categorical (type `object`) and boolean (type `bool`) features we can use the `value_counts` method. Let's have a look at the distribution of Churn:"
   ]
  },
  {
   "cell_type": "code",
   "execution_count": 13,
   "metadata": {},
   "outputs": [
    {
     "data": {
      "text/plain": [
       "False    164312\n",
       "True      85244\n",
       "Name: visitor, dtype: int64"
      ]
     },
     "execution_count": 13,
     "metadata": {},
     "output_type": "execute_result"
    }
   ],
   "source": [
    "df_e['visitor'].value_counts()"
   ]
  },
  {
   "cell_type": "markdown",
   "metadata": {},
   "source": [
    "We should be seeing the same distribution for the `int64` version of the feature."
   ]
  },
  {
   "cell_type": "code",
   "execution_count": 14,
   "metadata": {},
   "outputs": [
    {
     "data": {
      "text/plain": [
       "0    164312\n",
       "1     85244\n",
       "Name: visitor_int64, dtype: int64"
      ]
     },
     "execution_count": 14,
     "metadata": {},
     "output_type": "execute_result"
    }
   ],
   "source": [
    "df_e['visitor_int64'].value_counts()"
   ]
  },
  {
   "cell_type": "markdown",
   "metadata": {},
   "source": [
    "85244 users out of 249556 are actual visitors; their `visitor_int64` value is `1`. To calculate fractions, pass `normalize=True` to the `value_counts` function"
   ]
  },
  {
   "cell_type": "code",
   "execution_count": 15,
   "metadata": {},
   "outputs": [
    {
     "data": {
      "text/plain": [
       "0    0.66\n",
       "1    0.34\n",
       "Name: visitor_int64, dtype: float64"
      ]
     },
     "execution_count": 15,
     "metadata": {},
     "output_type": "execute_result"
    }
   ],
   "source": [
    "df_e['visitor_int64'].value_counts(normalize=True)"
   ]
  },
  {
   "cell_type": "markdown",
   "metadata": {},
   "source": [
    "Let us keep answering questions, for example. What is the average number of visitors per day?"
   ]
  },
  {
   "cell_type": "code",
   "execution_count": 45,
   "metadata": {},
   "outputs": [
    {
     "name": "stdout",
     "output_type": "stream",
     "text": [
      "Wednesday:  15696\n",
      "Sunday:  9930\n",
      "Friday:  9189\n",
      "Thursday:  13822\n",
      "Saturday:  11117\n",
      "Tuesday:  13515\n",
      "Monday:  11975\n"
     ]
    }
   ],
   "source": [
    "count_visitors = []\n",
    "# for every unique value in day_of_week_tz\n",
    "for i, day in enumerate(pd.unique(df_e['day_of_week_tz'])):\n",
    "    # count, where visitor == 1 and day_of_week_tz == each unique value\n",
    "    count_visitors.append(df_e[(df_e[\"visitor\"] == 1) & (df_e[\"day_of_week_tz\"] == day)][\"tiempodeses\"])\n",
    "    print(f\"{day}: \", count_visitors[i].count())"
   ]
  },
  {
   "cell_type": "markdown",
   "metadata": {},
   "source": [
    "Do we have the same patter for non-visitors?"
   ]
  },
  {
   "cell_type": "code",
   "execution_count": 46,
   "metadata": {},
   "outputs": [
    {
     "name": "stdout",
     "output_type": "stream",
     "text": [
      "Wednesday:  33116\n",
      "Sunday:  15217\n",
      "Friday:  16872\n",
      "Thursday:  27773\n",
      "Saturday:  18236\n",
      "Tuesday:  28164\n",
      "Monday:  24934\n"
     ]
    }
   ],
   "source": [
    "count_non_visitors = []\n",
    "# for every unique value in day_of_week_tz\n",
    "for i, day in enumerate(pd.unique(df_e['day_of_week_tz'])):\n",
    "    # count, where visitor == 1 and day_of_week_tz == each unique value\n",
    "    count_non_visitors.append(df_e[(df_e[\"visitor\"] == 0) & (df_e[\"day_of_week_tz\"] == day)][\"tiempodeses\"])\n",
    "    print(f\"{day}: \", count_non_visitors[i].count())"
   ]
  },
  {
   "cell_type": "markdown",
   "metadata": {},
   "source": [
    "We see the same order of days of the week, this could be related to those users that got close to the branch but did not entered it. If that is the case, then this would mean that we could infer the general traffic around the branches, but that could be stretching the data too much."
   ]
  },
  {
   "cell_type": "code",
   "execution_count": 65,
   "metadata": {},
   "outputs": [
    {
     "name": "stdout",
     "output_type": "stream",
     "text": [
      "Wednesday Visitors:  0.18413026136736896 -- Non-visitors:  0.20154340522907638\n",
      "Sunday Visitors:  0.1164891370653653 -- Non-visitors:  0.09261039972734797\n",
      "Friday Visitors:  0.10779644315142414 -- Non-visitors:  0.1026827012025902\n",
      "Thursday Visitors:  0.16214630941767164 -- Non-visitors:  0.16902599931836992\n",
      "Saturday Visitors:  0.13041387077096336 -- Non-visitors:  0.11098398169336385\n",
      "Tuesday Visitors:  0.15854488292431138 -- Non-visitors:  0.17140561857928818\n",
      "Monday Visitors:  0.1404790953028952 -- Non-visitors:  0.1517478942499635\n"
     ]
    }
   ],
   "source": [
    "# get totals to compute ratio\n",
    "total_visitors = df_e[df_e[\"visitor\"] == 1].shape[0]\n",
    "total_non_visitors = df_e[df_e[\"visitor\"] == 0].shape[0]\n",
    "days_of_the_week = pd.unique(df_e['day_of_week_tz'])\n",
    "\n",
    "# print ratios per day for visitors and non-visitors\n",
    "for day, visitor_series, non_visitor_series in zip(days_of_the_week, count_visitors, count_non_visitors):\n",
    "    print(f\"{day}\", \"Visitors: \", len(visitor_series)/total_visitors, \"-- Non-visitors: \", len(non_visitor_series)/total_non_visitors)"
   ]
  },
  {
   "cell_type": "markdown",
   "metadata": {},
   "source": [
    "Let's summarize the data by showing the session time grouped by visitor and branch office to see what we can discover"
   ]
  },
  {
   "cell_type": "code",
   "execution_count": 66,
   "metadata": {},
   "outputs": [
    {
     "data": {
      "text/html": [
       "<div>\n",
       "<style scoped>\n",
       "    .dataframe tbody tr th:only-of-type {\n",
       "        vertical-align: middle;\n",
       "    }\n",
       "\n",
       "    .dataframe tbody tr th {\n",
       "        vertical-align: top;\n",
       "    }\n",
       "\n",
       "    .dataframe thead tr th {\n",
       "        text-align: left;\n",
       "    }\n",
       "\n",
       "    .dataframe thead tr:last-of-type th {\n",
       "        text-align: right;\n",
       "    }\n",
       "</style>\n",
       "<table border=\"1\" class=\"dataframe\">\n",
       "  <thead>\n",
       "    <tr>\n",
       "      <th></th>\n",
       "      <th></th>\n",
       "      <th colspan=\"4\" halign=\"left\">tiempodeses</th>\n",
       "    </tr>\n",
       "    <tr>\n",
       "      <th></th>\n",
       "      <th></th>\n",
       "      <th>mean</th>\n",
       "      <th>std</th>\n",
       "      <th>amin</th>\n",
       "      <th>amax</th>\n",
       "    </tr>\n",
       "    <tr>\n",
       "      <th>visitor</th>\n",
       "      <th>branch_office</th>\n",
       "      <th></th>\n",
       "      <th></th>\n",
       "      <th></th>\n",
       "      <th></th>\n",
       "    </tr>\n",
       "  </thead>\n",
       "  <tbody>\n",
       "    <tr>\n",
       "      <th rowspan=\"3\" valign=\"top\">False</th>\n",
       "      <th>1</th>\n",
       "      <td>5.26</td>\n",
       "      <td>18.44</td>\n",
       "      <td>0</td>\n",
       "      <td>315</td>\n",
       "    </tr>\n",
       "    <tr>\n",
       "      <th>2</th>\n",
       "      <td>6.25</td>\n",
       "      <td>19.94</td>\n",
       "      <td>0</td>\n",
       "      <td>214</td>\n",
       "    </tr>\n",
       "    <tr>\n",
       "      <th>3</th>\n",
       "      <td>3.09</td>\n",
       "      <td>17.35</td>\n",
       "      <td>0</td>\n",
       "      <td>1715</td>\n",
       "    </tr>\n",
       "    <tr>\n",
       "      <th rowspan=\"3\" valign=\"top\">True</th>\n",
       "      <th>1</th>\n",
       "      <td>7164.52</td>\n",
       "      <td>14177.94</td>\n",
       "      <td>0</td>\n",
       "      <td>68062</td>\n",
       "    </tr>\n",
       "    <tr>\n",
       "      <th>2</th>\n",
       "      <td>8979.42</td>\n",
       "      <td>12031.18</td>\n",
       "      <td>0</td>\n",
       "      <td>64424</td>\n",
       "    </tr>\n",
       "    <tr>\n",
       "      <th>3</th>\n",
       "      <td>5538.57</td>\n",
       "      <td>9454.80</td>\n",
       "      <td>0</td>\n",
       "      <td>64443</td>\n",
       "    </tr>\n",
       "  </tbody>\n",
       "</table>\n",
       "</div>"
      ],
      "text/plain": [
       "                      tiempodeses                      \n",
       "                             mean       std amin   amax\n",
       "visitor branch_office                                  \n",
       "False   1                    5.26     18.44    0    315\n",
       "        2                    6.25     19.94    0    214\n",
       "        3                    3.09     17.35    0   1715\n",
       "True    1                 7164.52  14177.94    0  68062\n",
       "        2                 8979.42  12031.18    0  64424\n",
       "        3                 5538.57   9454.80    0  64443"
      ]
     },
     "execution_count": 66,
     "metadata": {},
     "output_type": "execute_result"
    }
   ],
   "source": [
    "columns_to_show = [\"tiempodeses\"]\n",
    "\n",
    "df_e.groupby([\"visitor\", \"branch_office\"])[columns_to_show].agg([np.mean, np.std, np.min, np.max])"
   ]
  },
  {
   "cell_type": "markdown",
   "metadata": {},
   "source": [
    "Users (visitors and non-visitors) spend, in average, more time in branch office number 2, however the variability of the session time, says that the less variable is branch office 3. Could this mean that office 3 has a better operation than the rest of the branches?"
   ]
  },
  {
   "cell_type": "code",
   "execution_count": 67,
   "metadata": {},
   "outputs": [
    {
     "data": {
      "text/html": [
       "<div>\n",
       "<style scoped>\n",
       "    .dataframe tbody tr th:only-of-type {\n",
       "        vertical-align: middle;\n",
       "    }\n",
       "\n",
       "    .dataframe tbody tr th {\n",
       "        vertical-align: top;\n",
       "    }\n",
       "\n",
       "    .dataframe thead th {\n",
       "        text-align: right;\n",
       "    }\n",
       "</style>\n",
       "<table border=\"1\" class=\"dataframe\">\n",
       "  <thead>\n",
       "    <tr style=\"text-align: right;\">\n",
       "      <th>branch_office</th>\n",
       "      <th>1</th>\n",
       "      <th>2</th>\n",
       "      <th>3</th>\n",
       "    </tr>\n",
       "    <tr>\n",
       "      <th>visitor</th>\n",
       "      <th></th>\n",
       "      <th></th>\n",
       "      <th></th>\n",
       "    </tr>\n",
       "  </thead>\n",
       "  <tbody>\n",
       "    <tr>\n",
       "      <th>False</th>\n",
       "      <td>81927</td>\n",
       "      <td>11000</td>\n",
       "      <td>71385</td>\n",
       "    </tr>\n",
       "    <tr>\n",
       "      <th>True</th>\n",
       "      <td>45012</td>\n",
       "      <td>13542</td>\n",
       "      <td>26690</td>\n",
       "    </tr>\n",
       "  </tbody>\n",
       "</table>\n",
       "</div>"
      ],
      "text/plain": [
       "branch_office      1      2      3\n",
       "visitor                           \n",
       "False          81927  11000  71385\n",
       "True           45012  13542  26690"
      ]
     },
     "execution_count": 67,
     "metadata": {},
     "output_type": "execute_result"
    }
   ],
   "source": [
    "pd.crosstab(df_e[\"visitor\"], df_e[\"branch_office\"])"
   ]
  },
  {
   "cell_type": "markdown",
   "metadata": {},
   "source": [
    "Sometimes sorting the values is helpful to better understand a behavior. We can do so by selecting one of the features (columns). We could start by sorting by `hour_tz`. Using the `ascending=False` we sort by descending order, `True` otherwise."
   ]
  },
  {
   "cell_type": "code",
   "execution_count": null,
   "metadata": {},
   "outputs": [],
   "source": []
  },
  {
   "cell_type": "code",
   "execution_count": 16,
   "metadata": {},
   "outputs": [
    {
     "data": {
      "text/html": [
       "<div>\n",
       "<style scoped>\n",
       "    .dataframe tbody tr th:only-of-type {\n",
       "        vertical-align: middle;\n",
       "    }\n",
       "\n",
       "    .dataframe tbody tr th {\n",
       "        vertical-align: top;\n",
       "    }\n",
       "\n",
       "    .dataframe thead th {\n",
       "        text-align: right;\n",
       "    }\n",
       "</style>\n",
       "<table border=\"1\" class=\"dataframe\">\n",
       "  <thead>\n",
       "    <tr style=\"text-align: right;\">\n",
       "      <th></th>\n",
       "      <th>Unnamed: 0</th>\n",
       "      <th>device_mac</th>\n",
       "      <th>branch_office</th>\n",
       "      <th>month_tz</th>\n",
       "      <th>day_tz</th>\n",
       "      <th>day_of_week_tz</th>\n",
       "      <th>hour_tz</th>\n",
       "      <th>visitor</th>\n",
       "      <th>tiempodeses</th>\n",
       "      <th>visitor_int64</th>\n",
       "    </tr>\n",
       "  </thead>\n",
       "  <tbody>\n",
       "    <tr>\n",
       "      <th>0</th>\n",
       "      <td>1</td>\n",
       "      <td>00:00:00:6a:17:ce</td>\n",
       "      <td>1</td>\n",
       "      <td>11</td>\n",
       "      <td>2</td>\n",
       "      <td>Wednesday</td>\n",
       "      <td>0</td>\n",
       "      <td>True</td>\n",
       "      <td>2676</td>\n",
       "      <td>1</td>\n",
       "    </tr>\n",
       "    <tr>\n",
       "      <th>11766</th>\n",
       "      <td>11767</td>\n",
       "      <td>08:37:3d:f9:11:d8</td>\n",
       "      <td>1</td>\n",
       "      <td>11</td>\n",
       "      <td>8</td>\n",
       "      <td>Tuesday</td>\n",
       "      <td>0</td>\n",
       "      <td>False</td>\n",
       "      <td>0</td>\n",
       "      <td>0</td>\n",
       "    </tr>\n",
       "    <tr>\n",
       "      <th>11739</th>\n",
       "      <td>11740</td>\n",
       "      <td>08:37:3d:f9:11:d8</td>\n",
       "      <td>1</td>\n",
       "      <td>11</td>\n",
       "      <td>3</td>\n",
       "      <td>Thursday</td>\n",
       "      <td>0</td>\n",
       "      <td>False</td>\n",
       "      <td>0</td>\n",
       "      <td>0</td>\n",
       "    </tr>\n",
       "    <tr>\n",
       "      <th>11732</th>\n",
       "      <td>11733</td>\n",
       "      <td>08:37:3d:f9:11:d8</td>\n",
       "      <td>1</td>\n",
       "      <td>11</td>\n",
       "      <td>2</td>\n",
       "      <td>Wednesday</td>\n",
       "      <td>0</td>\n",
       "      <td>False</td>\n",
       "      <td>0</td>\n",
       "      <td>0</td>\n",
       "    </tr>\n",
       "    <tr>\n",
       "      <th>166737</th>\n",
       "      <td>166738</td>\n",
       "      <td>a8:bb:cf:ce:d5:35</td>\n",
       "      <td>1</td>\n",
       "      <td>10</td>\n",
       "      <td>28</td>\n",
       "      <td>Friday</td>\n",
       "      <td>0</td>\n",
       "      <td>False</td>\n",
       "      <td>0</td>\n",
       "      <td>0</td>\n",
       "    </tr>\n",
       "    <tr>\n",
       "      <th>...</th>\n",
       "      <td>...</td>\n",
       "      <td>...</td>\n",
       "      <td>...</td>\n",
       "      <td>...</td>\n",
       "      <td>...</td>\n",
       "      <td>...</td>\n",
       "      <td>...</td>\n",
       "      <td>...</td>\n",
       "      <td>...</td>\n",
       "      <td>...</td>\n",
       "    </tr>\n",
       "    <tr>\n",
       "      <th>43483</th>\n",
       "      <td>43484</td>\n",
       "      <td>30:0d:43:22:d6:98</td>\n",
       "      <td>3</td>\n",
       "      <td>11</td>\n",
       "      <td>11</td>\n",
       "      <td>Friday</td>\n",
       "      <td>23</td>\n",
       "      <td>True</td>\n",
       "      <td>3191</td>\n",
       "      <td>1</td>\n",
       "    </tr>\n",
       "    <tr>\n",
       "      <th>43492</th>\n",
       "      <td>43493</td>\n",
       "      <td>30:0d:43:22:d6:98</td>\n",
       "      <td>3</td>\n",
       "      <td>11</td>\n",
       "      <td>12</td>\n",
       "      <td>Saturday</td>\n",
       "      <td>23</td>\n",
       "      <td>True</td>\n",
       "      <td>9765</td>\n",
       "      <td>1</td>\n",
       "    </tr>\n",
       "    <tr>\n",
       "      <th>221614</th>\n",
       "      <td>221615</td>\n",
       "      <td>e8:50:8b:be:c7:d8</td>\n",
       "      <td>1</td>\n",
       "      <td>10</td>\n",
       "      <td>26</td>\n",
       "      <td>Wednesday</td>\n",
       "      <td>23</td>\n",
       "      <td>False</td>\n",
       "      <td>0</td>\n",
       "      <td>0</td>\n",
       "    </tr>\n",
       "    <tr>\n",
       "      <th>210786</th>\n",
       "      <td>210787</td>\n",
       "      <td>e0:98:61:d4:09:31</td>\n",
       "      <td>3</td>\n",
       "      <td>11</td>\n",
       "      <td>9</td>\n",
       "      <td>Wednesday</td>\n",
       "      <td>23</td>\n",
       "      <td>True</td>\n",
       "      <td>1921</td>\n",
       "      <td>1</td>\n",
       "    </tr>\n",
       "    <tr>\n",
       "      <th>84365</th>\n",
       "      <td>84366</td>\n",
       "      <td>5c:51:88:a0:80:cd</td>\n",
       "      <td>1</td>\n",
       "      <td>10</td>\n",
       "      <td>28</td>\n",
       "      <td>Friday</td>\n",
       "      <td>23</td>\n",
       "      <td>True</td>\n",
       "      <td>1789</td>\n",
       "      <td>1</td>\n",
       "    </tr>\n",
       "  </tbody>\n",
       "</table>\n",
       "<p>249556 rows × 10 columns</p>\n",
       "</div>"
      ],
      "text/plain": [
       "        Unnamed: 0         device_mac  branch_office  month_tz  day_tz  \\\n",
       "0                1  00:00:00:6a:17:ce              1        11       2   \n",
       "11766        11767  08:37:3d:f9:11:d8              1        11       8   \n",
       "11739        11740  08:37:3d:f9:11:d8              1        11       3   \n",
       "11732        11733  08:37:3d:f9:11:d8              1        11       2   \n",
       "166737      166738  a8:bb:cf:ce:d5:35              1        10      28   \n",
       "...            ...                ...            ...       ...     ...   \n",
       "43483        43484  30:0d:43:22:d6:98              3        11      11   \n",
       "43492        43493  30:0d:43:22:d6:98              3        11      12   \n",
       "221614      221615  e8:50:8b:be:c7:d8              1        10      26   \n",
       "210786      210787  e0:98:61:d4:09:31              3        11       9   \n",
       "84365        84366  5c:51:88:a0:80:cd              1        10      28   \n",
       "\n",
       "       day_of_week_tz  hour_tz  visitor  tiempodeses  visitor_int64  \n",
       "0           Wednesday        0     True         2676              1  \n",
       "11766         Tuesday        0    False            0              0  \n",
       "11739        Thursday        0    False            0              0  \n",
       "11732       Wednesday        0    False            0              0  \n",
       "166737         Friday        0    False            0              0  \n",
       "...               ...      ...      ...          ...            ...  \n",
       "43483          Friday       23     True         3191              1  \n",
       "43492        Saturday       23     True         9765              1  \n",
       "221614      Wednesday       23    False            0              0  \n",
       "210786      Wednesday       23     True         1921              1  \n",
       "84365          Friday       23     True         1789              1  \n",
       "\n",
       "[249556 rows x 10 columns]"
      ]
     },
     "execution_count": 16,
     "metadata": {},
     "output_type": "execute_result"
    }
   ],
   "source": [
    "df_e.sort_values(by=\"hour_tz\", ascending=True)"
   ]
  },
  {
   "cell_type": "markdown",
   "metadata": {},
   "source": [
    "We could leverage the rest of the time dimensionality in `day_tz` and `month_tz`. To sort by multiple columns we pass a `list` of values to the `by` parameter with the name of the features. Let's go ahead and also sort by `visitor`."
   ]
  },
  {
   "cell_type": "code",
   "execution_count": 17,
   "metadata": {},
   "outputs": [
    {
     "data": {
      "text/html": [
       "<div>\n",
       "<style scoped>\n",
       "    .dataframe tbody tr th:only-of-type {\n",
       "        vertical-align: middle;\n",
       "    }\n",
       "\n",
       "    .dataframe tbody tr th {\n",
       "        vertical-align: top;\n",
       "    }\n",
       "\n",
       "    .dataframe thead th {\n",
       "        text-align: right;\n",
       "    }\n",
       "</style>\n",
       "<table border=\"1\" class=\"dataframe\">\n",
       "  <thead>\n",
       "    <tr style=\"text-align: right;\">\n",
       "      <th></th>\n",
       "      <th>Unnamed: 0</th>\n",
       "      <th>device_mac</th>\n",
       "      <th>branch_office</th>\n",
       "      <th>month_tz</th>\n",
       "      <th>day_tz</th>\n",
       "      <th>day_of_week_tz</th>\n",
       "      <th>hour_tz</th>\n",
       "      <th>visitor</th>\n",
       "      <th>tiempodeses</th>\n",
       "      <th>visitor_int64</th>\n",
       "    </tr>\n",
       "  </thead>\n",
       "  <tbody>\n",
       "    <tr>\n",
       "      <th>1560</th>\n",
       "      <td>1561</td>\n",
       "      <td>00:12:22:f6:54:08</td>\n",
       "      <td>1</td>\n",
       "      <td>10</td>\n",
       "      <td>24</td>\n",
       "      <td>Monday</td>\n",
       "      <td>12</td>\n",
       "      <td>True</td>\n",
       "      <td>1299</td>\n",
       "      <td>1</td>\n",
       "    </tr>\n",
       "    <tr>\n",
       "      <th>12748</th>\n",
       "      <td>12749</td>\n",
       "      <td>08:74:02:ad:a3:fa</td>\n",
       "      <td>1</td>\n",
       "      <td>10</td>\n",
       "      <td>24</td>\n",
       "      <td>Monday</td>\n",
       "      <td>12</td>\n",
       "      <td>True</td>\n",
       "      <td>10551</td>\n",
       "      <td>1</td>\n",
       "    </tr>\n",
       "    <tr>\n",
       "      <th>51186</th>\n",
       "      <td>51187</td>\n",
       "      <td>34:fc:ef:ed:7f:f8</td>\n",
       "      <td>1</td>\n",
       "      <td>10</td>\n",
       "      <td>24</td>\n",
       "      <td>Monday</td>\n",
       "      <td>12</td>\n",
       "      <td>True</td>\n",
       "      <td>5301</td>\n",
       "      <td>1</td>\n",
       "    </tr>\n",
       "    <tr>\n",
       "      <th>68435</th>\n",
       "      <td>68436</td>\n",
       "      <td>48:3b:38:a3:ee:9c</td>\n",
       "      <td>1</td>\n",
       "      <td>10</td>\n",
       "      <td>24</td>\n",
       "      <td>Monday</td>\n",
       "      <td>12</td>\n",
       "      <td>True</td>\n",
       "      <td>503</td>\n",
       "      <td>1</td>\n",
       "    </tr>\n",
       "    <tr>\n",
       "      <th>78626</th>\n",
       "      <td>78627</td>\n",
       "      <td>52:a2:0e:54:84:93</td>\n",
       "      <td>1</td>\n",
       "      <td>10</td>\n",
       "      <td>24</td>\n",
       "      <td>Monday</td>\n",
       "      <td>12</td>\n",
       "      <td>False</td>\n",
       "      <td>0</td>\n",
       "      <td>0</td>\n",
       "    </tr>\n",
       "    <tr>\n",
       "      <th>...</th>\n",
       "      <td>...</td>\n",
       "      <td>...</td>\n",
       "      <td>...</td>\n",
       "      <td>...</td>\n",
       "      <td>...</td>\n",
       "      <td>...</td>\n",
       "      <td>...</td>\n",
       "      <td>...</td>\n",
       "      <td>...</td>\n",
       "      <td>...</td>\n",
       "    </tr>\n",
       "    <tr>\n",
       "      <th>242060</th>\n",
       "      <td>242061</td>\n",
       "      <td>f4:f5:24:d3:4f:8a</td>\n",
       "      <td>1</td>\n",
       "      <td>11</td>\n",
       "      <td>30</td>\n",
       "      <td>Wednesday</td>\n",
       "      <td>17</td>\n",
       "      <td>True</td>\n",
       "      <td>123</td>\n",
       "      <td>1</td>\n",
       "    </tr>\n",
       "    <tr>\n",
       "      <th>242149</th>\n",
       "      <td>242150</td>\n",
       "      <td>f6:41:4d:fd:9b:84</td>\n",
       "      <td>1</td>\n",
       "      <td>11</td>\n",
       "      <td>30</td>\n",
       "      <td>Wednesday</td>\n",
       "      <td>17</td>\n",
       "      <td>False</td>\n",
       "      <td>0</td>\n",
       "      <td>0</td>\n",
       "    </tr>\n",
       "    <tr>\n",
       "      <th>243685</th>\n",
       "      <td>243686</td>\n",
       "      <td>f8:cf:c5:20:48:b4</td>\n",
       "      <td>1</td>\n",
       "      <td>11</td>\n",
       "      <td>30</td>\n",
       "      <td>Wednesday</td>\n",
       "      <td>17</td>\n",
       "      <td>False</td>\n",
       "      <td>0</td>\n",
       "      <td>0</td>\n",
       "    </tr>\n",
       "    <tr>\n",
       "      <th>243755</th>\n",
       "      <td>243756</td>\n",
       "      <td>f8:cf:c5:3e:7b:ca</td>\n",
       "      <td>1</td>\n",
       "      <td>11</td>\n",
       "      <td>30</td>\n",
       "      <td>Wednesday</td>\n",
       "      <td>17</td>\n",
       "      <td>False</td>\n",
       "      <td>0</td>\n",
       "      <td>0</td>\n",
       "    </tr>\n",
       "    <tr>\n",
       "      <th>248783</th>\n",
       "      <td>248784</td>\n",
       "      <td>fc:e9:98:d6:81:57</td>\n",
       "      <td>1</td>\n",
       "      <td>11</td>\n",
       "      <td>30</td>\n",
       "      <td>Wednesday</td>\n",
       "      <td>17</td>\n",
       "      <td>True</td>\n",
       "      <td>4209</td>\n",
       "      <td>1</td>\n",
       "    </tr>\n",
       "  </tbody>\n",
       "</table>\n",
       "<p>249556 rows × 10 columns</p>\n",
       "</div>"
      ],
      "text/plain": [
       "        Unnamed: 0         device_mac  branch_office  month_tz  day_tz  \\\n",
       "1560          1561  00:12:22:f6:54:08              1        10      24   \n",
       "12748        12749  08:74:02:ad:a3:fa              1        10      24   \n",
       "51186        51187  34:fc:ef:ed:7f:f8              1        10      24   \n",
       "68435        68436  48:3b:38:a3:ee:9c              1        10      24   \n",
       "78626        78627  52:a2:0e:54:84:93              1        10      24   \n",
       "...            ...                ...            ...       ...     ...   \n",
       "242060      242061  f4:f5:24:d3:4f:8a              1        11      30   \n",
       "242149      242150  f6:41:4d:fd:9b:84              1        11      30   \n",
       "243685      243686  f8:cf:c5:20:48:b4              1        11      30   \n",
       "243755      243756  f8:cf:c5:3e:7b:ca              1        11      30   \n",
       "248783      248784  fc:e9:98:d6:81:57              1        11      30   \n",
       "\n",
       "       day_of_week_tz  hour_tz  visitor  tiempodeses  visitor_int64  \n",
       "1560           Monday       12     True         1299              1  \n",
       "12748          Monday       12     True        10551              1  \n",
       "51186          Monday       12     True         5301              1  \n",
       "68435          Monday       12     True          503              1  \n",
       "78626          Monday       12    False            0              0  \n",
       "...               ...      ...      ...          ...            ...  \n",
       "242060      Wednesday       17     True          123              1  \n",
       "242149      Wednesday       17    False            0              0  \n",
       "243685      Wednesday       17    False            0              0  \n",
       "243755      Wednesday       17    False            0              0  \n",
       "248783      Wednesday       17     True         4209              1  \n",
       "\n",
       "[249556 rows x 10 columns]"
      ]
     },
     "execution_count": 17,
     "metadata": {},
     "output_type": "execute_result"
    }
   ],
   "source": [
    "df_e.sort_values(by=[\"month_tz\", \"day_tz\", \"hour_tz\"], ascending=[True, True, True])"
   ]
  }
 ],
 "metadata": {
  "interpreter": {
   "hash": "374a0045d68a2cd5f3fe8f1a55f35fda77ca0cb8c2d65f84e0492a51b74034f0"
  },
  "kernelspec": {
   "display_name": "Python 3.8.6 64-bit (system)",
   "language": "python",
   "name": "python3"
  },
  "language_info": {
   "codemirror_mode": {
    "name": "ipython",
    "version": 3
   },
   "file_extension": ".py",
   "mimetype": "text/x-python",
   "name": "python",
   "nbconvert_exporter": "python",
   "pygments_lexer": "ipython3",
   "version": "3.8.6"
  },
  "orig_nbformat": 4
 },
 "nbformat": 4,
 "nbformat_minor": 2
}
